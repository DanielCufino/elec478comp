{
 "cells": [
  {
   "cell_type": "markdown",
   "id": "0a38a23b",
   "metadata": {},
   "source": [
    "# Example Notebook: Neuron Synapse Competition"
   ]
  },
  {
   "cell_type": "markdown",
   "id": "66105ff6",
   "metadata": {},
   "source": [
    "## Load in and Wrangle Training Data"
   ]
  },
  {
   "cell_type": "code",
   "execution_count": 2,
   "id": "e2237b6d",
   "metadata": {},
   "outputs": [],
   "source": [
    "import pandas as pd\n",
    "import numpy as np\n",
    "import matplotlib.pyplot as plt\n",
    "import seaborn as sns\n",
    "\n",
    "#load in training data on each potential synapse\n",
    "data = pd.read_csv(\"./train_data.csv\")\n",
    "\n",
    "#load in additional features for each neuron\n",
    "feature_weights = pd.read_csv(\"./feature_weights.csv\")\n",
    "morph_embeddings = pd.read_csv(\"./morph_embeddings.csv\")"
   ]
  },
  {
   "cell_type": "code",
   "execution_count": null,
   "metadata": {},
   "outputs": [],
   "source": [
    "data.head()"
   ]
  },
  {
   "cell_type": "markdown",
   "id": "c4070b48",
   "metadata": {},
   "source": [
    "#### Basic info on these dataframes"
   ]
  },
  {
   "cell_type": "code",
   "execution_count": 3,
   "id": "21377c2f",
   "metadata": {},
   "outputs": [
    {
     "name": "stdout",
     "output_type": "stream",
     "text": [
      "Main Dataframe Size: (185832, 30)\n",
      "\n",
      "Main Dataframe:\n",
      "<class 'pandas.core.frame.DataFrame'>\n",
      "RangeIndex: 185832 entries, 0 to 185831\n",
      "Data columns (total 30 columns):\n",
      " #   Column                          Non-Null Count   Dtype  \n",
      "---  ------                          --------------   -----  \n",
      " 0   ID                              185832 non-null  int64  \n",
      " 1   axonal_coor_x                   185832 non-null  int64  \n",
      " 2   axonal_coor_y                   185832 non-null  int64  \n",
      " 3   axonal_coor_z                   185832 non-null  int64  \n",
      " 4   dendritic_coor_x                185832 non-null  int64  \n",
      " 5   dendritic_coor_y                185832 non-null  int64  \n",
      " 6   dendritic_coor_z                185832 non-null  int64  \n",
      " 7   adp_dist                        185832 non-null  float64\n",
      " 8   post_skeletal_distance_to_soma  185832 non-null  float64\n",
      " 9   pre_skeletal_distance_to_soma   185832 non-null  float64\n",
      " 10  pre_oracle                      185832 non-null  float64\n",
      " 11  pre_test_score                  185832 non-null  float64\n",
      " 12  pre_rf_x                        185832 non-null  float64\n",
      " 13  pre_rf_y                        185832 non-null  float64\n",
      " 14  post_oracle                     185832 non-null  float64\n",
      " 15  post_test_score                 185832 non-null  float64\n",
      " 16  post_rf_x                       185832 non-null  float64\n",
      " 17  post_rf_y                       185832 non-null  float64\n",
      " 18  compartment                     185832 non-null  object \n",
      " 19  pre_brain_area                  185832 non-null  object \n",
      " 20  post_brain_area                 185832 non-null  object \n",
      " 21  pre_nucleus_x                   185832 non-null  int64  \n",
      " 22  pre_nucleus_y                   185832 non-null  int64  \n",
      " 23  pre_nucleus_z                   185832 non-null  int64  \n",
      " 24  post_nucleus_x                  185832 non-null  int64  \n",
      " 25  post_nucleus_y                  185832 non-null  int64  \n",
      " 26  post_nucleus_z                  185832 non-null  int64  \n",
      " 27  pre_nucleus_id                  185832 non-null  int64  \n",
      " 28  post_nucleus_id                 185832 non-null  int64  \n",
      " 29  connected                       185832 non-null  bool   \n",
      "dtypes: bool(1), float64(11), int64(15), object(3)\n",
      "memory usage: 41.3+ MB\n",
      "\n",
      "Feature Weights Size: (2692, 513)\n",
      "\n",
      "Feature Weights:\n",
      "<class 'pandas.core.frame.DataFrame'>\n",
      "RangeIndex: 2692 entries, 0 to 2691\n",
      "Columns: 513 entries, nucleus_id to feature_weight_511\n",
      "dtypes: float64(512), int64(1)\n",
      "memory usage: 10.5 MB\n",
      "\n",
      "Morphological Embeddings Size: (2667, 33)\n",
      "\n",
      "Morphological Embeddings:\n",
      "<class 'pandas.core.frame.DataFrame'>\n",
      "RangeIndex: 2667 entries, 0 to 2666\n",
      "Columns: 33 entries, nucleus_id to morph_emb_31\n",
      "dtypes: float64(32), int64(1)\n",
      "memory usage: 687.7 KB\n"
     ]
    }
   ],
   "source": [
    "print(\"Main Dataframe Size:\",data.shape)\n",
    "print(\"\\nMain Dataframe:\")\n",
    "data.info()\n",
    "\n",
    "print(\"\\nFeature Weights Size:\",feature_weights.shape)\n",
    "print(\"\\nFeature Weights:\")\n",
    "feature_weights.info(verbose=False)\n",
    "\n",
    "print(\"\\nMorphological Embeddings Size:\",morph_embeddings.shape)\n",
    "print(\"\\nMorphological Embeddings:\")\n",
    "morph_embeddings.info(verbose=False)"
   ]
  },
  {
   "cell_type": "code",
   "execution_count": 81,
   "metadata": {},
   "outputs": [
    {
     "ename": "KeyboardInterrupt",
     "evalue": "",
     "output_type": "error",
     "traceback": [
      "\u001b[0;31m---------------------------------------------------------------------------\u001b[0m",
      "\u001b[0;31mKeyboardInterrupt\u001b[0m                         Traceback (most recent call last)",
      "\u001b[1;32m/Users/danielcufino/Desktop/rice/F23/ELEC478/competition/neuron-synapse-prediction/example_nb_exploration.ipynb Cell 7\u001b[0m line \u001b[0;36m<cell line: 11>\u001b[0;34m()\u001b[0m\n\u001b[1;32m      <a href='vscode-notebook-cell:/Users/danielcufino/Desktop/rice/F23/ELEC478/competition/neuron-synapse-prediction/example_nb_exploration.ipynb#Y152sZmlsZQ%3D%3D?line=8'>9</a>\u001b[0m values \u001b[39m=\u001b[39m np\u001b[39m.\u001b[39mvstack([x, y])\n\u001b[1;32m     <a href='vscode-notebook-cell:/Users/danielcufino/Desktop/rice/F23/ELEC478/competition/neuron-synapse-prediction/example_nb_exploration.ipynb#Y152sZmlsZQ%3D%3D?line=9'>10</a>\u001b[0m kernel \u001b[39m=\u001b[39m gaussian_kde(values)\n\u001b[0;32m---> <a href='vscode-notebook-cell:/Users/danielcufino/Desktop/rice/F23/ELEC478/competition/neuron-synapse-prediction/example_nb_exploration.ipynb#Y152sZmlsZQ%3D%3D?line=10'>11</a>\u001b[0m densities \u001b[39m=\u001b[39m kernel(values)\n\u001b[1;32m     <a href='vscode-notebook-cell:/Users/danielcufino/Desktop/rice/F23/ELEC478/competition/neuron-synapse-prediction/example_nb_exploration.ipynb#Y152sZmlsZQ%3D%3D?line=12'>13</a>\u001b[0m \u001b[39m# Generate the scatter plot\u001b[39;00m\n\u001b[1;32m     <a href='vscode-notebook-cell:/Users/danielcufino/Desktop/rice/F23/ELEC478/competition/neuron-synapse-prediction/example_nb_exploration.ipynb#Y152sZmlsZQ%3D%3D?line=13'>14</a>\u001b[0m plt\u001b[39m.\u001b[39mfigure(figsize\u001b[39m=\u001b[39m(\u001b[39m10\u001b[39m, \u001b[39m6\u001b[39m))\n",
      "File \u001b[0;32m~/miniforge3/envs/torch/lib/python3.8/site-packages/scipy/stats/kde.py:252\u001b[0m, in \u001b[0;36mgaussian_kde.evaluate\u001b[0;34m(self, points)\u001b[0m\n\u001b[1;32m    249\u001b[0m \u001b[39melse\u001b[39;00m:\n\u001b[1;32m    250\u001b[0m     \u001b[39mraise\u001b[39;00m \u001b[39mTypeError\u001b[39;00m(\u001b[39m'\u001b[39m\u001b[39m%s\u001b[39;00m\u001b[39m has unexpected item size \u001b[39m\u001b[39m%d\u001b[39;00m\u001b[39m'\u001b[39m \u001b[39m%\u001b[39m\n\u001b[1;32m    251\u001b[0m                     (output_dtype, itemsize))\n\u001b[0;32m--> 252\u001b[0m result \u001b[39m=\u001b[39m gaussian_kernel_estimate[spec](\u001b[39mself\u001b[39;49m\u001b[39m.\u001b[39;49mdataset\u001b[39m.\u001b[39;49mT, \u001b[39mself\u001b[39;49m\u001b[39m.\u001b[39;49mweights[:, \u001b[39mNone\u001b[39;49;00m],\n\u001b[1;32m    253\u001b[0m                                         points\u001b[39m.\u001b[39;49mT, \u001b[39mself\u001b[39;49m\u001b[39m.\u001b[39;49minv_cov, output_dtype)\n\u001b[1;32m    254\u001b[0m \u001b[39mreturn\u001b[39;00m result[:, \u001b[39m0\u001b[39m]\n",
      "\u001b[0;31mKeyboardInterrupt\u001b[0m: "
     ]
    }
   ],
   "source": [
    "import matplotlib.pyplot as plt\n",
    "import numpy as np\n",
    "from scipy.stats import gaussian_kde\n",
    "\n",
    "# Assuming 'data' is your DataFrame and 'pre_rf_x', 'pre_rf_y' are your column names\n",
    "# Calculate the point density\n",
    "x = data['pre_rf_x']\n",
    "y = data['pre_rf_y']\n",
    "values = np.vstack([x, y])\n",
    "kernel = gaussian_kde(values)\n",
    "densities = kernel(values)\n",
    "\n",
    "# Generate the scatter plot\n",
    "plt.figure(figsize=(10, 6))\n",
    "scatter = plt.scatter(x, y, c=densities, s=100 * densities, alpha=0.5, edgecolor='')\n",
    "plt.title('Density Scatter Plot of Pre Features')\n",
    "plt.xlabel('pre_rf_x')\n",
    "plt.ylabel('pre_rf_y')\n",
    "plt.colorbar(scatter, label='Density')\n",
    "plt.show()\n"
   ]
  },
  {
   "cell_type": "code",
   "execution_count": 118,
   "metadata": {},
   "outputs": [
    {
     "data": {
      "image/png": "[encoded data removed]",
      "text/plain": [
       "<Figure size 720x432 with 2 Axes>"
      ]
     },
     "metadata": {
      "needs_background": "light"
     },
     "output_type": "display_data"
    }
   ],
   "source": [
    "import matplotlib.pyplot as plt\n",
    "import numpy as np\n",
    "\n",
    "plt.figure(figsize=(10, 6))\n",
    "\n",
    "# Create a hexbin map with a color bar\n",
    "hb = plt.hexbin(data['pre_rf_x'], data['pre_rf_y'], gridsize=60, cmap='coolwarm', bins='log')\n",
    "\n",
    "# Add title and labels\n",
    "plt.title('Hexbin plot of pre features')\n",
    "plt.xlabel('pre_rf_x')\n",
    "plt.ylabel('pre_rf_y')\n",
    "\n",
    "# Add a color bar\n",
    "cb = plt.colorbar(hb)\n",
    "cb.set_label('log10(N)')  # Where N is the count in each hexbin\n",
    "\n",
    "plt.show()\n"
   ]
  },
  {
   "cell_type": "code",
   "execution_count": 117,
   "metadata": {},
   "outputs": [
    {
     "data": {
      "image/png": "[encoded data removed]",
      "text/plain": [
       "<Figure size 720x432 with 2 Axes>"
      ]
     },
     "metadata": {
      "needs_background": "light"
     },
     "output_type": "display_data"
    }
   ],
   "source": [
    "plt.figure(figsize=(10, 6))\n",
    "\n",
    "# Create a hexbin map with a color bar\n",
    "hb = plt.hexbin(data['post_rf_x'], data['post_rf_y'], gridsize=60, cmap='coolwarm', bins='log')\n",
    "\n",
    "# Add title and labels\n",
    "plt.title('Hexbin plot of post features')\n",
    "plt.xlabel('pre_rf_x')\n",
    "plt.ylabel('pre_rf_y')\n",
    "\n",
    "# Add a color bar\n",
    "cb = plt.colorbar(hb)\n",
    "cb.set_label('log10(N)')  # Where N is the count in each hexbin\n",
    "\n",
    "plt.show()\n"
   ]
  },
  {
   "cell_type": "markdown",
   "id": "9157b5f4",
   "metadata": {},
   "source": [
    "See the documentation for additional information on these features.  The main dataframe contains features for each potential synapse (each row).  The outcome to predict is 'connected'.  Note that many of the raw features in this dataframe will not be directly useful for prediction (e.g. x,y,z coordiantes, pre- and post-synapse neuron ID and etc.).  You will need to creatively engineer new features that will be more useful for prediction.\n",
    "\n",
    "The additional information on feature weights and morphological embeddings are given for each separate neuron (the neuron ID is matched with that in the main dataframe).  These will need to be merged with the other data to create training and test sets. "
   ]
  },
  {
   "cell_type": "markdown",
   "id": "49737cbf",
   "metadata": {},
   "source": [
    "#### Merge Data"
   ]
  },
  {
   "cell_type": "markdown",
   "id": "2b83752d",
   "metadata": {},
   "source": [
    "Before merging, we concatenate the feature weights and morphological embeddings into np.array's to decrease memory usage."
   ]
  },
  {
   "cell_type": "code",
   "execution_count": 4,
   "id": "2a78bac9",
   "metadata": {},
   "outputs": [],
   "source": [
    "# join all feature_weight_i columns into a single np.array column\n",
    "feature_weights[\"feature_weights\"] = (\n",
    "    feature_weights.filter(regex=\"feature_weight_\")\n",
    "    .sort_index(axis=1)\n",
    "    .apply(lambda x: np.array(x), axis=1)\n",
    ")\n",
    "# delete the feature_weight_i columns\n",
    "feature_weights.drop(\n",
    "    feature_weights.filter(regex=\"feature_weight_\").columns, axis=1, inplace=True\n",
    ")\n",
    "\n",
    "# join all morph_embed_i columns into a single np.array column\n",
    "morph_embeddings[\"morph_embeddings\"] = (\n",
    "    morph_embeddings.filter(regex=\"morph_emb_\")\n",
    "    .sort_index(axis=1)\n",
    "    .apply(lambda x: np.array(x), axis=1)\n",
    ")\n",
    "# delete the morph_embed_i columns\n",
    "morph_embeddings.drop(\n",
    "    morph_embeddings.filter(regex=\"morph_emb_\").columns, axis=1, inplace=True\n",
    ")"
   ]
  },
  {
   "cell_type": "code",
   "execution_count": 5,
   "id": "3f87211b",
   "metadata": {},
   "outputs": [],
   "source": [
    "data = (\n",
    "    data.merge(\n",
    "        feature_weights.rename(columns=lambda x: \"pre_\" + x), \n",
    "        how=\"left\", \n",
    "        validate=\"m:1\",\n",
    "        copy=False,\n",
    "    )\n",
    "    .merge(\n",
    "        feature_weights.rename(columns=lambda x: \"post_\" + x),\n",
    "        how=\"left\",\n",
    "        validate=\"m:1\",\n",
    "        copy=False,\n",
    "    )\n",
    "    .merge(\n",
    "        morph_embeddings.rename(columns=lambda x: \"pre_\" + x),\n",
    "        how=\"left\",\n",
    "        validate=\"m:1\",\n",
    "        copy=False,\n",
    "    )\n",
    "    .merge(\n",
    "        morph_embeddings.rename(columns=lambda x: \"post_\" + x),\n",
    "        how=\"left\",\n",
    "        validate=\"m:1\",\n",
    "        copy=False,\n",
    "    )\n",
    ")"
   ]
  },
  {
   "cell_type": "code",
   "execution_count": 6,
   "id": "210ce030",
   "metadata": {},
   "outputs": [
    {
     "name": "stdout",
     "output_type": "stream",
     "text": [
      "Data Size: (185832, 34)\n",
      "\n",
      "Data:\n",
      "<class 'pandas.core.frame.DataFrame'>\n",
      "Int64Index: 185832 entries, 0 to 185831\n",
      "Data columns (total 34 columns):\n",
      " #   Column                          Non-Null Count   Dtype  \n",
      "---  ------                          --------------   -----  \n",
      " 0   ID                              185832 non-null  int64  \n",
      " 1   axonal_coor_x                   185832 non-null  int64  \n",
      " 2   axonal_coor_y                   185832 non-null  int64  \n",
      " 3   axonal_coor_z                   185832 non-null  int64  \n",
      " 4   dendritic_coor_x                185832 non-null  int64  \n",
      " 5   dendritic_coor_y                185832 non-null  int64  \n",
      " 6   dendritic_coor_z                185832 non-null  int64  \n",
      " 7   adp_dist                        185832 non-null  float64\n",
      " 8   post_skeletal_distance_to_soma  185832 non-null  float64\n",
      " 9   pre_skeletal_distance_to_soma   185832 non-null  float64\n",
      " 10  pre_oracle                      185832 non-null  float64\n",
      " 11  pre_test_score                  185832 non-null  float64\n",
      " 12  pre_rf_x                        185832 non-null  float64\n",
      " 13  pre_rf_y                        185832 non-null  float64\n",
      " 14  post_oracle                     185832 non-null  float64\n",
      " 15  post_test_score                 185832 non-null  float64\n",
      " 16  post_rf_x                       185832 non-null  float64\n",
      " 17  post_rf_y                       185832 non-null  float64\n",
      " 18  compartment                     185832 non-null  object \n",
      " 19  pre_brain_area                  185832 non-null  object \n",
      " 20  post_brain_area                 185832 non-null  object \n",
      " 21  pre_nucleus_x                   185832 non-null  int64  \n",
      " 22  pre_nucleus_y                   185832 non-null  int64  \n",
      " 23  pre_nucleus_z                   185832 non-null  int64  \n",
      " 24  post_nucleus_x                  185832 non-null  int64  \n",
      " 25  post_nucleus_y                  185832 non-null  int64  \n",
      " 26  post_nucleus_z                  185832 non-null  int64  \n",
      " 27  pre_nucleus_id                  185832 non-null  int64  \n",
      " 28  post_nucleus_id                 185832 non-null  int64  \n",
      " 29  connected                       185832 non-null  bool   \n",
      " 30  pre_feature_weights             185832 non-null  object \n",
      " 31  post_feature_weights            185832 non-null  object \n",
      " 32  pre_morph_embeddings            138123 non-null  object \n",
      " 33  post_morph_embeddings           185832 non-null  object \n",
      "dtypes: bool(1), float64(11), int64(15), object(7)\n",
      "memory usage: 48.4+ MB\n"
     ]
    }
   ],
   "source": [
    "print(\"Data Size:\",data.shape)\n",
    "print(\"\\nData:\")\n",
    "data.info()"
   ]
  },
  {
   "cell_type": "code",
   "execution_count": 78,
   "metadata": {},
   "outputs": [
    {
     "data": {
      "text/html": [
       "<div>\n",
       "<style scoped>\n",
       "    .dataframe tbody tr th:only-of-type {\n",
       "        vertical-align: middle;\n",
       "    }\n",
       "\n",
       "    .dataframe tbody tr th {\n",
       "        vertical-align: top;\n",
       "    }\n",
       "\n",
       "    .dataframe thead th {\n",
       "        text-align: right;\n",
       "    }\n",
       "</style>\n",
       "<table border=\"1\" class=\"dataframe\">\n",
       "  <thead>\n",
       "    <tr style=\"text-align: right;\">\n",
       "      <th></th>\n",
       "      <th>ID</th>\n",
       "      <th>axonal_coor_x</th>\n",
       "      <th>axonal_coor_y</th>\n",
       "      <th>axonal_coor_z</th>\n",
       "      <th>dendritic_coor_x</th>\n",
       "      <th>dendritic_coor_y</th>\n",
       "      <th>dendritic_coor_z</th>\n",
       "      <th>adp_dist</th>\n",
       "      <th>post_skeletal_distance_to_soma</th>\n",
       "      <th>pre_skeletal_distance_to_soma</th>\n",
       "      <th>...</th>\n",
       "      <th>post_nucleus_z</th>\n",
       "      <th>pre_nucleus_id</th>\n",
       "      <th>post_nucleus_id</th>\n",
       "      <th>connected</th>\n",
       "      <th>pre_feature_weights</th>\n",
       "      <th>post_feature_weights</th>\n",
       "      <th>pre_morph_embeddings</th>\n",
       "      <th>post_morph_embeddings</th>\n",
       "      <th>fw_similarity</th>\n",
       "      <th>projection_group</th>\n",
       "    </tr>\n",
       "  </thead>\n",
       "  <tbody>\n",
       "    <tr>\n",
       "      <th>0</th>\n",
       "      <td>42593</td>\n",
       "      <td>1187660</td>\n",
       "      <td>411978</td>\n",
       "      <td>1089020</td>\n",
       "      <td>1187390</td>\n",
       "      <td>412220</td>\n",
       "      <td>1089160</td>\n",
       "      <td>304.185</td>\n",
       "      <td>353043.0</td>\n",
       "      <td>1182170.0</td>\n",
       "      <td>...</td>\n",
       "      <td>919560</td>\n",
       "      <td>557121</td>\n",
       "      <td>518848</td>\n",
       "      <td>False</td>\n",
       "      <td>[0.40828925, 0.051097646, -0.02682111, 0.04239...</td>\n",
       "      <td>[-0.03917461, -0.1830603, -0.3704222, 0.183293...</td>\n",
       "      <td>[0.3733156323432922, 0.209817960858345, -0.123...</td>\n",
       "      <td>[1.0723994970321655, -0.7540942430496216, 0.11...</td>\n",
       "      <td>0.127256</td>\n",
       "      <td>RL-&gt;RL</td>\n",
       "    </tr>\n",
       "    <tr>\n",
       "      <th>1</th>\n",
       "      <td>42594</td>\n",
       "      <td>1204580</td>\n",
       "      <td>682542</td>\n",
       "      <td>873138</td>\n",
       "      <td>1204640</td>\n",
       "      <td>682870</td>\n",
       "      <td>873890</td>\n",
       "      <td>725.431</td>\n",
       "      <td>244156.0</td>\n",
       "      <td>914243.0</td>\n",
       "      <td>...</td>\n",
       "      <td>919560</td>\n",
       "      <td>557121</td>\n",
       "      <td>518848</td>\n",
       "      <td>False</td>\n",
       "      <td>[0.40828925, 0.051097646, -0.02682111, 0.04239...</td>\n",
       "      <td>[-0.03917461, -0.1830603, -0.3704222, 0.183293...</td>\n",
       "      <td>[0.3733156323432922, 0.209817960858345, -0.123...</td>\n",
       "      <td>[1.0723994970321655, -0.7540942430496216, 0.11...</td>\n",
       "      <td>0.127256</td>\n",
       "      <td>RL-&gt;RL</td>\n",
       "    </tr>\n",
       "    <tr>\n",
       "      <th>2</th>\n",
       "      <td>42595</td>\n",
       "      <td>1191790</td>\n",
       "      <td>403683</td>\n",
       "      <td>1093180</td>\n",
       "      <td>1188590</td>\n",
       "      <td>402414</td>\n",
       "      <td>1092660</td>\n",
       "      <td>3423.030</td>\n",
       "      <td>363829.0</td>\n",
       "      <td>1171820.0</td>\n",
       "      <td>...</td>\n",
       "      <td>919560</td>\n",
       "      <td>557121</td>\n",
       "      <td>518848</td>\n",
       "      <td>False</td>\n",
       "      <td>[0.40828925, 0.051097646, -0.02682111, 0.04239...</td>\n",
       "      <td>[-0.03917461, -0.1830603, -0.3704222, 0.183293...</td>\n",
       "      <td>[0.3733156323432922, 0.209817960858345, -0.123...</td>\n",
       "      <td>[1.0723994970321655, -0.7540942430496216, 0.11...</td>\n",
       "      <td>0.127256</td>\n",
       "      <td>RL-&gt;RL</td>\n",
       "    </tr>\n",
       "    <tr>\n",
       "      <th>3</th>\n",
       "      <td>42596</td>\n",
       "      <td>1184320</td>\n",
       "      <td>419286</td>\n",
       "      <td>1082930</td>\n",
       "      <td>1186620</td>\n",
       "      <td>419721</td>\n",
       "      <td>1085540</td>\n",
       "      <td>3442.390</td>\n",
       "      <td>344267.0</td>\n",
       "      <td>1192340.0</td>\n",
       "      <td>...</td>\n",
       "      <td>919560</td>\n",
       "      <td>557121</td>\n",
       "      <td>518848</td>\n",
       "      <td>False</td>\n",
       "      <td>[0.40828925, 0.051097646, -0.02682111, 0.04239...</td>\n",
       "      <td>[-0.03917461, -0.1830603, -0.3704222, 0.183293...</td>\n",
       "      <td>[0.3733156323432922, 0.209817960858345, -0.123...</td>\n",
       "      <td>[1.0723994970321655, -0.7540942430496216, 0.11...</td>\n",
       "      <td>0.127256</td>\n",
       "      <td>RL-&gt;RL</td>\n",
       "    </tr>\n",
       "    <tr>\n",
       "      <th>4</th>\n",
       "      <td>42597</td>\n",
       "      <td>1189150</td>\n",
       "      <td>673302</td>\n",
       "      <td>944202</td>\n",
       "      <td>1188790</td>\n",
       "      <td>677771</td>\n",
       "      <td>942901</td>\n",
       "      <td>4442.380</td>\n",
       "      <td>313630.0</td>\n",
       "      <td>788566.0</td>\n",
       "      <td>...</td>\n",
       "      <td>919560</td>\n",
       "      <td>557121</td>\n",
       "      <td>518848</td>\n",
       "      <td>False</td>\n",
       "      <td>[0.40828925, 0.051097646, -0.02682111, 0.04239...</td>\n",
       "      <td>[-0.03917461, -0.1830603, -0.3704222, 0.183293...</td>\n",
       "      <td>[0.3733156323432922, 0.209817960858345, -0.123...</td>\n",
       "      <td>[1.0723994970321655, -0.7540942430496216, 0.11...</td>\n",
       "      <td>0.127256</td>\n",
       "      <td>RL-&gt;RL</td>\n",
       "    </tr>\n",
       "  </tbody>\n",
       "</table>\n",
       "<p>5 rows × 36 columns</p>\n",
       "</div>"
      ],
      "text/plain": [
       "      ID  axonal_coor_x  axonal_coor_y  axonal_coor_z  dendritic_coor_x  \\\n",
       "0  42593        1187660         411978        1089020           1187390   \n",
       "1  42594        1204580         682542         873138           1204640   \n",
       "2  42595        1191790         403683        1093180           1188590   \n",
       "3  42596        1184320         419286        1082930           1186620   \n",
       "4  42597        1189150         673302         944202           1188790   \n",
       "\n",
       "   dendritic_coor_y  dendritic_coor_z  adp_dist  \\\n",
       "0            412220           1089160   304.185   \n",
       "1            682870            873890   725.431   \n",
       "2            402414           1092660  3423.030   \n",
       "3            419721           1085540  3442.390   \n",
       "4            677771            942901  4442.380   \n",
       "\n",
       "   post_skeletal_distance_to_soma  pre_skeletal_distance_to_soma  ...  \\\n",
       "0                        353043.0                      1182170.0  ...   \n",
       "1                        244156.0                       914243.0  ...   \n",
       "2                        363829.0                      1171820.0  ...   \n",
       "3                        344267.0                      1192340.0  ...   \n",
       "4                        313630.0                       788566.0  ...   \n",
       "\n",
       "   post_nucleus_z  pre_nucleus_id  post_nucleus_id  connected  \\\n",
       "0          919560          557121           518848      False   \n",
       "1          919560          557121           518848      False   \n",
       "2          919560          557121           518848      False   \n",
       "3          919560          557121           518848      False   \n",
       "4          919560          557121           518848      False   \n",
       "\n",
       "                                 pre_feature_weights  \\\n",
       "0  [0.40828925, 0.051097646, -0.02682111, 0.04239...   \n",
       "1  [0.40828925, 0.051097646, -0.02682111, 0.04239...   \n",
       "2  [0.40828925, 0.051097646, -0.02682111, 0.04239...   \n",
       "3  [0.40828925, 0.051097646, -0.02682111, 0.04239...   \n",
       "4  [0.40828925, 0.051097646, -0.02682111, 0.04239...   \n",
       "\n",
       "                                post_feature_weights  \\\n",
       "0  [-0.03917461, -0.1830603, -0.3704222, 0.183293...   \n",
       "1  [-0.03917461, -0.1830603, -0.3704222, 0.183293...   \n",
       "2  [-0.03917461, -0.1830603, -0.3704222, 0.183293...   \n",
       "3  [-0.03917461, -0.1830603, -0.3704222, 0.183293...   \n",
       "4  [-0.03917461, -0.1830603, -0.3704222, 0.183293...   \n",
       "\n",
       "                                pre_morph_embeddings  \\\n",
       "0  [0.3733156323432922, 0.209817960858345, -0.123...   \n",
       "1  [0.3733156323432922, 0.209817960858345, -0.123...   \n",
       "2  [0.3733156323432922, 0.209817960858345, -0.123...   \n",
       "3  [0.3733156323432922, 0.209817960858345, -0.123...   \n",
       "4  [0.3733156323432922, 0.209817960858345, -0.123...   \n",
       "\n",
       "                               post_morph_embeddings fw_similarity  \\\n",
       "0  [1.0723994970321655, -0.7540942430496216, 0.11...      0.127256   \n",
       "1  [1.0723994970321655, -0.7540942430496216, 0.11...      0.127256   \n",
       "2  [1.0723994970321655, -0.7540942430496216, 0.11...      0.127256   \n",
       "3  [1.0723994970321655, -0.7540942430496216, 0.11...      0.127256   \n",
       "4  [1.0723994970321655, -0.7540942430496216, 0.11...      0.127256   \n",
       "\n",
       "  projection_group  \n",
       "0           RL->RL  \n",
       "1           RL->RL  \n",
       "2           RL->RL  \n",
       "3           RL->RL  \n",
       "4           RL->RL  \n",
       "\n",
       "[5 rows x 36 columns]"
      ]
     },
     "execution_count": 78,
     "metadata": {},
     "output_type": "execute_result"
    }
   ],
   "source": [
    "data.head()"
   ]
  },
  {
   "cell_type": "markdown",
   "id": "798015c5",
   "metadata": {},
   "source": [
    "## Basic Exploratory Analysis"
   ]
  },
  {
   "cell_type": "code",
   "execution_count": 7,
   "id": "bcdb53dc",
   "metadata": {},
   "outputs": [],
   "source": [
    "import numpy as np\n",
    "import pandas as pd\n",
    "import seaborn as sns\n",
    "import matplotlib.pyplot as plt\n",
    "from tqdm import tqdm\n",
    "from sklearn.metrics.pairwise import cosine_similarity"
   ]
  },
  {
   "cell_type": "markdown",
   "id": "2dc227ee",
   "metadata": {},
   "source": [
    "### Unbalanced Data"
   ]
  },
  {
   "cell_type": "markdown",
   "id": "660421ac",
   "metadata": {},
   "source": [
    "The outcomes, the adps that form a connection or synapse ('connected'==True) and the adps that do not synapse ('connected'==False), are unbalanced:"
   ]
  },
  {
   "cell_type": "code",
   "execution_count": 8,
   "id": "13ff436c",
   "metadata": {},
   "outputs": [
    {
     "name": "stdout",
     "output_type": "stream",
     "text": [
      "Number Connected (Synapses): 1366\n",
      "\n",
      "Number Not Connected: 184466\n"
     ]
    }
   ],
   "source": [
    "print(\"Number Connected (Synapses):\",data['connected'].sum())\n",
    "\n",
    "print(\"\\nNumber Not Connected:\",(~data['connected']).sum())"
   ]
  },
  {
   "cell_type": "markdown",
   "id": "1abf1022",
   "metadata": {},
   "source": [
    "The number of presynaptic neurons and postsynaptic neurons are also unbalanced:"
   ]
  },
  {
   "cell_type": "code",
   "execution_count": 9,
   "id": "44a8917f",
   "metadata": {},
   "outputs": [
    {
     "name": "stdout",
     "output_type": "stream",
     "text": [
      "All the adps are from 77 pre- neurons and 2663 post- neurons.\n"
     ]
    }
   ],
   "source": [
    "print(f\"All the adps are from {data['pre_nucleus_id'].nunique()} pre- neurons and {data['post_nucleus_id'].nunique()} post- neurons.\")"
   ]
  },
  {
   "cell_type": "markdown",
   "id": "e8c02cc6",
   "metadata": {},
   "source": [
    "### Exploration: Synaptic Proximity Distance "
   ]
  },
  {
   "cell_type": "code",
   "execution_count": 10,
   "id": "a6163e8c",
   "metadata": {},
   "outputs": [
    {
     "data": {
      "text/plain": [
       "<seaborn.axisgrid.FacetGrid at 0x28ff8c6d0>"
      ]
     },
     "execution_count": 10,
     "metadata": {},
     "output_type": "execute_result"
    },
    {
     "data": {
      "image/png": "[encoded data removed]",
      "text/plain": [
       "<Figure size 360x360 with 1 Axes>"
      ]
     },
     "metadata": {
      "needs_background": "light"
     },
     "output_type": "display_data"
    }
   ],
   "source": [
    "sns.catplot(data=data, x='connected', y='adp_dist', kind='boxen')"
   ]
  },
  {
   "cell_type": "markdown",
   "id": "80f50d61",
   "metadata": {},
   "source": [
    "Neurons that form a synpase ('connected') tend to be closer together (smaller distance between pre- and post-synaptic ADP - 'adp_dist')."
   ]
  },
  {
   "cell_type": "markdown",
   "id": "1d6717c6",
   "metadata": {},
   "source": [
    "## Example: Basic Feature Engineering"
   ]
  },
  {
   "cell_type": "markdown",
   "id": "5d306806",
   "metadata": {},
   "source": [
    "### Exploration: Neurons that form a synpase tend to have similar functional neural responses"
   ]
  },
  {
   "cell_type": "markdown",
   "id": "97bc6105",
   "metadata": {},
   "source": [
    "Neurons in the visual cortex each respond differently to visual stimuli.  This is often captured by a neuron's tuning function, or the visual features that drive a neuron to fire.  The feature weight vectors ('feature_weights') are a kind of summary of each neuron's tuning function.  Neuroscience suggests that neurons with similar tuning are slightly more likely to be connected.  To assess this, we would need to engineer a new feature that capture the tuning similarity of the pre- and post- synaptic neurons for each ADP.  (See the documentation for more details).  "
   ]
  },
  {
   "cell_type": "code",
   "execution_count": 11,
   "id": "e6679b5c",
   "metadata": {},
   "outputs": [],
   "source": [
    "#cosine similarity function\n",
    "def row_feature_similarity(row):\n",
    "    pre = row[\"pre_feature_weights\"]\n",
    "    post = row[\"post_feature_weights\"]\n",
    "    return (pre * post).sum() / (np.linalg.norm(pre) * np.linalg.norm(post))"
   ]
  },
  {
   "cell_type": "code",
   "execution_count": 12,
   "id": "3388f91f",
   "metadata": {},
   "outputs": [],
   "source": [
    "# compute the cosine similarity between the pre- and post- feature weights\n",
    "data[\"fw_similarity\"] = data.apply(row_feature_similarity, axis=1)"
   ]
  },
  {
   "cell_type": "code",
   "execution_count": 13,
   "id": "2bd80efe",
   "metadata": {},
   "outputs": [
    {
     "data": {
      "text/plain": [
       "<seaborn.axisgrid.FacetGrid at 0x28ff855b0>"
      ]
     },
     "execution_count": 13,
     "metadata": {},
     "output_type": "execute_result"
    },
    {
     "data": {
      "image/png": "[encoded data removed]",
      "text/plain": [
       "<Figure size 360x360 with 1 Axes>"
      ]
     },
     "metadata": {
      "needs_background": "light"
     },
     "output_type": "display_data"
    }
   ],
   "source": [
    "#visualize these results\n",
    "sns.catplot(data=data, x='connected', y='fw_similarity', kind='boxen')"
   ]
  },
  {
   "cell_type": "markdown",
   "id": "01035751",
   "metadata": {},
   "source": [
    "There may be a very, very slight difference, but we can investigate this further."
   ]
  },
  {
   "cell_type": "markdown",
   "id": "106744b9",
   "metadata": {},
   "source": [
    "### Exploration: Similar functional nerual responses by projection region in the brain"
   ]
  },
  {
   "cell_type": "markdown",
   "id": "7fe3de1b",
   "metadata": {},
   "source": [
    "Projection regions indicate the brain regions where the pre-synaptic and post-synaptic neurons are located in the brain.  Each brain region is responsible for different neural functions.  We can engineer a new feature to capture the projection regions and perhaps see if similar neural tuning is affiliated with connecitons in particular projection regions.  For example, it has been shown that connected neurons have slightly more similar neural tuning than unconnected neurons in the V1->V1 projection region."
   ]
  },
  {
   "cell_type": "code",
   "execution_count": 14,
   "id": "29908dfb",
   "metadata": {},
   "outputs": [],
   "source": [
    "# generate projection group as pre->post\n",
    "data[\"projection_group\"] = (\n",
    "    data[\"pre_brain_area\"].astype(str)\n",
    "    + \"->\"\n",
    "    + data[\"post_brain_area\"].astype(str)\n",
    ")"
   ]
  },
  {
   "cell_type": "code",
   "execution_count": 15,
   "id": "e7b83b7b",
   "metadata": {},
   "outputs": [
    {
     "data": {
      "text/plain": [
       "<seaborn.axisgrid.FacetGrid at 0x28ff031c0>"
      ]
     },
     "execution_count": 15,
     "metadata": {},
     "output_type": "execute_result"
    },
    {
     "data": {
      "image/png": "[encoded data removed]",
      "text/plain": [
       "<Figure size 637.25x576 with 4 Axes>"
      ]
     },
     "metadata": {
      "needs_background": "light"
     },
     "output_type": "display_data"
    }
   ],
   "source": [
    "# check the distribution of the cosine similarity for projections groups with more than 100 synapses\n",
    "projection_group_counts = data.query('connected')['projection_group'].value_counts()\n",
    "projection_group_counts = projection_group_counts[projection_group_counts > 100].index\n",
    "sns.displot(\n",
    "    data=data.query('projection_group in @projection_group_counts'), \n",
    "    x='fw_similarity', \n",
    "    hue='connected', \n",
    "    row='projection_group',\n",
    "    common_norm=False, \n",
    "    stat='probability',\n",
    "    binwidth=.02,\n",
    "    height=2,\n",
    "    aspect=4,\n",
    "    facet_kws={'sharey': False}\n",
    ")"
   ]
  },
  {
   "cell_type": "code",
   "execution_count": 16,
   "id": "1582585b",
   "metadata": {},
   "outputs": [
    {
     "data": {
      "image/png": "[encoded data removed]",
      "text/plain": [
       "<Figure size 421.25x360 with 1 Axes>"
      ]
     },
     "metadata": {
      "needs_background": "light"
     },
     "output_type": "display_data"
    }
   ],
   "source": [
    "sns.catplot(data=data, x='projection_group', y='fw_similarity', hue='connected', kind='bar', alpha=.7)\n",
    "plt.tight_layout()\n",
    "plt.legend(bbox_to_anchor=(1.05, 1), loc=2, borderaxespad=0.);\n",
    "plt.xticks(rotation=90);"
   ]
  },
  {
   "cell_type": "markdown",
   "id": "2dc827ab",
   "metadata": {},
   "source": [
    "We have shown some simple examples of how to engineer new features and also shown that these are related to neuron connectivity.  You will likley need to explore and engineer many other possible features in this competition.  "
   ]
  },
  {
   "cell_type": "code",
   "execution_count": 17,
   "id": "fc6e956d",
   "metadata": {},
   "outputs": [
    {
     "data": {
      "text/plain": [
       "['proj_grp_AL->AL',\n",
       " 'proj_grp_AL->RL',\n",
       " 'proj_grp_AL->V1',\n",
       " 'proj_grp_RL->AL',\n",
       " 'proj_grp_RL->RL',\n",
       " 'proj_grp_RL->V1',\n",
       " 'proj_grp_V1->AL',\n",
       " 'proj_grp_V1->RL',\n",
       " 'proj_grp_V1->V1']"
      ]
     },
     "execution_count": 17,
     "metadata": {},
     "output_type": "execute_result"
    }
   ],
   "source": [
    "# Let's engineer some features for projection regions\n",
    "one_hot = pd.get_dummies(data['projection_group'], prefix='proj_grp')\n",
    "df = pd.concat([data, one_hot], axis=1)\n",
    "prj_cols = [col for col in df.columns if 'proj_grp' in col]\n",
    "prj_cols"
   ]
  },
  {
   "cell_type": "code",
   "execution_count": 18,
   "id": "7137867e",
   "metadata": {},
   "outputs": [
    {
     "data": {
      "text/plain": [
       "['proj_grp_AL->AL',\n",
       " 'proj_grp_AL->RL',\n",
       " 'proj_grp_AL->V1',\n",
       " 'proj_grp_RL->AL',\n",
       " 'proj_grp_RL->RL',\n",
       " 'proj_grp_RL->V1',\n",
       " 'proj_grp_V1->AL',\n",
       " 'proj_grp_V1->RL',\n",
       " 'proj_grp_V1->V1']"
      ]
     },
     "execution_count": 18,
     "metadata": {},
     "output_type": "execute_result"
    }
   ],
   "source": [
    "prj_cols = [col for col in df.columns if 'proj_grp' in col]\n",
    "prj_cols"
   ]
  },
  {
   "cell_type": "markdown",
   "id": "27b04bf7",
   "metadata": {},
   "source": [
    "Now Engineer Feature for Pre-Post Soma-to-soma distance"
   ]
  },
  {
   "cell_type": "code",
   "execution_count": 19,
   "id": "027d9d46",
   "metadata": {},
   "outputs": [],
   "source": [
    "df['sts_dist'] = abs(df['pre_skeletal_distance_to_soma'] - df['post_skeletal_distance_to_soma'])\n"
   ]
  },
  {
   "cell_type": "markdown",
   "id": "82a37ee6",
   "metadata": {},
   "source": [
    "Engineer Feature for distance between pre-post nucleus"
   ]
  },
  {
   "cell_type": "code",
   "execution_count": 20,
   "id": "44ee3e78",
   "metadata": {},
   "outputs": [],
   "source": [
    "def nucleus_distance(row):\n",
    "    pre_coords = np.array([row['pre_nucleus_x'], row['pre_nucleus_y'], row['pre_nucleus_z']])\n",
    "    post_coords = np.array([row['post_nucleus_x'], row['post_nucleus_y'], row['post_nucleus_z']])\n",
    "    return np.linalg.norm(pre_coords - post_coords)\n",
    "\n",
    "df['nucleus_distance'] = df.apply(nucleus_distance, axis=1)"
   ]
  },
  {
   "cell_type": "code",
   "execution_count": 21,
   "id": "8d2ac71f",
   "metadata": {},
   "outputs": [],
   "source": [
    "def morphological_similarity(row):\n",
    "    pre_morph = np.array(row[\"pre_morph_embeddings\"])\n",
    "    post_morph = np.array(row[\"post_morph_embeddings\"])\n",
    "    \n",
    "    # Replace NaNs with zero\n",
    "    pre_morph = np.nan_to_num(pre_morph)\n",
    "    post_morph = np.nan_to_num(post_morph)\n",
    "    \n",
    "    norm_pre = np.linalg.norm(pre_morph)\n",
    "    norm_post = np.linalg.norm(post_morph)\n",
    "    \n",
    "    if norm_pre == 0 or norm_post == 0:\n",
    "        return 0.0\n",
    "    \n",
    "    return (pre_morph * post_morph).sum() / (norm_pre * norm_post)\n",
    "\n",
    "# # Apply the function row-wise\n",
    "# df['morph_sim'] = df.apply(morphological_similarity, axis=1)\n",
    "# df['morph_sim'].unique()\n",
    "# def morphological_similarity(row):\n",
    "#     pre_morph = np.array(row[\"pre_morph_embeddings\"])\n",
    "#     post_morph = np.array(row[\"post_morph_embeddings\"])\n",
    "    \n",
    "#     if np.isnan(pre_morph).any() or np.isnan(post_morph).any():\n",
    "#         return 0.0  # or you can return some other value here\n",
    "    \n",
    "#     return (pre_morph * post_morph).sum() / (np.linalg.norm(pre_morph) * np.linalg.norm(post_morph))\n",
    "\n",
    "# Apply the function row-wise\n",
    "df['morph_sim'] = df.apply(morphological_similarity, axis=1)\n",
    "# df.columns"
   ]
  },
  {
   "cell_type": "code",
   "execution_count": 22,
   "id": "497f0128",
   "metadata": {},
   "outputs": [
    {
     "data": {
      "text/plain": [
       "<seaborn.axisgrid.FacetGrid at 0x29b975d00>"
      ]
     },
     "execution_count": 22,
     "metadata": {},
     "output_type": "execute_result"
    },
    {
     "data": {
      "image/png": "[encoded data removed]",
      "text/plain": [
       "<Figure size 360x360 with 1 Axes>"
      ]
     },
     "metadata": {
      "needs_background": "light"
     },
     "output_type": "display_data"
    }
   ],
   "source": [
    "sns.catplot(data=df, x='connected', y='morph_sim', kind='boxen')"
   ]
  },
  {
   "cell_type": "code",
   "execution_count": 23,
   "id": "c66ffc3d",
   "metadata": {},
   "outputs": [],
   "source": [
    "df['oracle_diff'] = np.abs(df['pre_oracle'] - df['post_oracle'])"
   ]
  },
  {
   "cell_type": "code",
   "execution_count": 24,
   "id": "7f10a892",
   "metadata": {},
   "outputs": [
    {
     "data": {
      "text/plain": [
       "<seaborn.axisgrid.FacetGrid at 0x2bb9238e0>"
      ]
     },
     "execution_count": 24,
     "metadata": {},
     "output_type": "execute_result"
    },
    {
     "data": {
      "image/png": "[encoded data removed]",
      "text/plain": [
       "<Figure size 360x360 with 1 Axes>"
      ]
     },
     "metadata": {
      "needs_background": "light"
     },
     "output_type": "display_data"
    }
   ],
   "source": [
    "sns.catplot(data=df, x='connected', y='oracle_diff', kind='boxen')\n"
   ]
  },
  {
   "cell_type": "code",
   "execution_count": 77,
   "metadata": {},
   "outputs": [
    {
     "ename": "TypeError",
     "evalue": "numpy boolean subtract, the `-` operator, is not supported, use the bitwise_xor, the `^` operator, or the logical_xor function instead.",
     "output_type": "error",
     "traceback": [
      "\u001b[0;31m---------------------------------------------------------------------------\u001b[0m",
      "\u001b[0;31mTypeError\u001b[0m                                 Traceback (most recent call last)",
      "\u001b[1;32m/Users/danielcufino/Desktop/rice/F23/ELEC478/competition/neuron-synapse-prediction/example_nb_exploration.ipynb Cell 45\u001b[0m line \u001b[0;36m<cell line: 1>\u001b[0;34m()\u001b[0m\n\u001b[0;32m----> <a href='vscode-notebook-cell:/Users/danielcufino/Desktop/rice/F23/ELEC478/competition/neuron-synapse-prediction/example_nb_exploration.ipynb#Y136sZmlsZQ%3D%3D?line=0'>1</a>\u001b[0m sns\u001b[39m.\u001b[39;49mcatplot(data\u001b[39m=\u001b[39;49mdata, x\u001b[39m=\u001b[39;49m\u001b[39m'\u001b[39;49m\u001b[39mcompartment\u001b[39;49m\u001b[39m'\u001b[39;49m, y\u001b[39m=\u001b[39;49m\u001b[39m'\u001b[39;49m\u001b[39mconnected\u001b[39;49m\u001b[39m'\u001b[39;49m, kind\u001b[39m=\u001b[39;49m\u001b[39m'\u001b[39;49m\u001b[39mboxen\u001b[39;49m\u001b[39m'\u001b[39;49m)\n",
      "File \u001b[0;32m~/miniforge3/envs/torch/lib/python3.8/site-packages/seaborn/_decorators.py:46\u001b[0m, in \u001b[0;36m_deprecate_positional_args.<locals>.inner_f\u001b[0;34m(*args, **kwargs)\u001b[0m\n\u001b[1;32m     36\u001b[0m     warnings\u001b[39m.\u001b[39mwarn(\n\u001b[1;32m     37\u001b[0m         \u001b[39m\"\u001b[39m\u001b[39mPass the following variable\u001b[39m\u001b[39m{}\u001b[39;00m\u001b[39m as \u001b[39m\u001b[39m{}\u001b[39;00m\u001b[39mkeyword arg\u001b[39m\u001b[39m{}\u001b[39;00m\u001b[39m: \u001b[39m\u001b[39m{}\u001b[39;00m\u001b[39m. \u001b[39m\u001b[39m\"\u001b[39m\n\u001b[1;32m     38\u001b[0m         \u001b[39m\"\u001b[39m\u001b[39mFrom version 0.12, the only valid positional argument \u001b[39m\u001b[39m\"\u001b[39m\n\u001b[0;32m   (...)\u001b[0m\n\u001b[1;32m     43\u001b[0m         \u001b[39mFutureWarning\u001b[39;00m\n\u001b[1;32m     44\u001b[0m     )\n\u001b[1;32m     45\u001b[0m kwargs\u001b[39m.\u001b[39mupdate({k: arg \u001b[39mfor\u001b[39;00m k, arg \u001b[39min\u001b[39;00m \u001b[39mzip\u001b[39m(sig\u001b[39m.\u001b[39mparameters, args)})\n\u001b[0;32m---> 46\u001b[0m \u001b[39mreturn\u001b[39;00m f(\u001b[39m*\u001b[39;49m\u001b[39m*\u001b[39;49mkwargs)\n",
      "File \u001b[0;32m~/miniforge3/envs/torch/lib/python3.8/site-packages/seaborn/categorical.py:3847\u001b[0m, in \u001b[0;36mcatplot\u001b[0;34m(x, y, hue, data, row, col, col_wrap, estimator, ci, n_boot, units, seed, order, hue_order, row_order, col_order, kind, height, aspect, orient, color, palette, legend, legend_out, sharex, sharey, margin_titles, facet_kws, **kwargs)\u001b[0m\n\u001b[1;32m   3844\u001b[0m g \u001b[39m=\u001b[39m FacetGrid(\u001b[39m*\u001b[39m\u001b[39m*\u001b[39mfacet_kws)\n\u001b[1;32m   3846\u001b[0m \u001b[39m# Draw the plot onto the facets\u001b[39;00m\n\u001b[0;32m-> 3847\u001b[0m g\u001b[39m.\u001b[39;49mmap_dataframe(plot_func, x\u001b[39m=\u001b[39;49mx, y\u001b[39m=\u001b[39;49my, hue\u001b[39m=\u001b[39;49mhue, \u001b[39m*\u001b[39;49m\u001b[39m*\u001b[39;49mplot_kws)\n\u001b[1;32m   3849\u001b[0m \u001b[39mif\u001b[39;00m p\u001b[39m.\u001b[39morient \u001b[39m==\u001b[39m \u001b[39m\"\u001b[39m\u001b[39mh\u001b[39m\u001b[39m\"\u001b[39m:\n\u001b[1;32m   3850\u001b[0m     g\u001b[39m.\u001b[39mset_axis_labels(p\u001b[39m.\u001b[39mvalue_label, p\u001b[39m.\u001b[39mgroup_label)\n",
      "File \u001b[0;32m~/miniforge3/envs/torch/lib/python3.8/site-packages/seaborn/axisgrid.py:777\u001b[0m, in \u001b[0;36mFacetGrid.map_dataframe\u001b[0;34m(self, func, *args, **kwargs)\u001b[0m\n\u001b[1;32m    774\u001b[0m     kwargs[\u001b[39m\"\u001b[39m\u001b[39mdata\u001b[39m\u001b[39m\"\u001b[39m] \u001b[39m=\u001b[39m data_ijk\n\u001b[1;32m    776\u001b[0m     \u001b[39m# Draw the plot\u001b[39;00m\n\u001b[0;32m--> 777\u001b[0m     \u001b[39mself\u001b[39;49m\u001b[39m.\u001b[39;49m_facet_plot(func, ax, args, kwargs)\n\u001b[1;32m    779\u001b[0m \u001b[39m# For axis labels, prefer to use positional args for backcompat\u001b[39;00m\n\u001b[1;32m    780\u001b[0m \u001b[39m# but also extract the x/y kwargs and use if no corresponding arg\u001b[39;00m\n\u001b[1;32m    781\u001b[0m axis_labels \u001b[39m=\u001b[39m [kwargs\u001b[39m.\u001b[39mget(\u001b[39m\"\u001b[39m\u001b[39mx\u001b[39m\u001b[39m\"\u001b[39m, \u001b[39mNone\u001b[39;00m), kwargs\u001b[39m.\u001b[39mget(\u001b[39m\"\u001b[39m\u001b[39my\u001b[39m\u001b[39m\"\u001b[39m, \u001b[39mNone\u001b[39;00m)]\n",
      "File \u001b[0;32m~/miniforge3/envs/torch/lib/python3.8/site-packages/seaborn/axisgrid.py:806\u001b[0m, in \u001b[0;36mFacetGrid._facet_plot\u001b[0;34m(self, func, ax, plot_args, plot_kwargs)\u001b[0m\n\u001b[1;32m    804\u001b[0m     plot_args \u001b[39m=\u001b[39m []\n\u001b[1;32m    805\u001b[0m     plot_kwargs[\u001b[39m\"\u001b[39m\u001b[39max\u001b[39m\u001b[39m\"\u001b[39m] \u001b[39m=\u001b[39m ax\n\u001b[0;32m--> 806\u001b[0m func(\u001b[39m*\u001b[39;49mplot_args, \u001b[39m*\u001b[39;49m\u001b[39m*\u001b[39;49mplot_kwargs)\n\u001b[1;32m    808\u001b[0m \u001b[39m# Sort out the supporting information\u001b[39;00m\n\u001b[1;32m    809\u001b[0m \u001b[39mself\u001b[39m\u001b[39m.\u001b[39m_update_legend_data(ax)\n",
      "File \u001b[0;32m~/miniforge3/envs/torch/lib/python3.8/site-packages/seaborn/_decorators.py:46\u001b[0m, in \u001b[0;36m_deprecate_positional_args.<locals>.inner_f\u001b[0;34m(*args, **kwargs)\u001b[0m\n\u001b[1;32m     36\u001b[0m     warnings\u001b[39m.\u001b[39mwarn(\n\u001b[1;32m     37\u001b[0m         \u001b[39m\"\u001b[39m\u001b[39mPass the following variable\u001b[39m\u001b[39m{}\u001b[39;00m\u001b[39m as \u001b[39m\u001b[39m{}\u001b[39;00m\u001b[39mkeyword arg\u001b[39m\u001b[39m{}\u001b[39;00m\u001b[39m: \u001b[39m\u001b[39m{}\u001b[39;00m\u001b[39m. \u001b[39m\u001b[39m\"\u001b[39m\n\u001b[1;32m     38\u001b[0m         \u001b[39m\"\u001b[39m\u001b[39mFrom version 0.12, the only valid positional argument \u001b[39m\u001b[39m\"\u001b[39m\n\u001b[0;32m   (...)\u001b[0m\n\u001b[1;32m     43\u001b[0m         \u001b[39mFutureWarning\u001b[39;00m\n\u001b[1;32m     44\u001b[0m     )\n\u001b[1;32m     45\u001b[0m kwargs\u001b[39m.\u001b[39mupdate({k: arg \u001b[39mfor\u001b[39;00m k, arg \u001b[39min\u001b[39;00m \u001b[39mzip\u001b[39m(sig\u001b[39m.\u001b[39mparameters, args)})\n\u001b[0;32m---> 46\u001b[0m \u001b[39mreturn\u001b[39;00m f(\u001b[39m*\u001b[39;49m\u001b[39m*\u001b[39;49mkwargs)\n",
      "File \u001b[0;32m~/miniforge3/envs/torch/lib/python3.8/site-packages/seaborn/categorical.py:2642\u001b[0m, in \u001b[0;36mboxenplot\u001b[0;34m(x, y, hue, data, order, hue_order, orient, color, palette, saturation, width, dodge, k_depth, linewidth, scale, outlier_prop, trust_alpha, showfliers, ax, **kwargs)\u001b[0m\n\u001b[1;32m   2639\u001b[0m \u001b[39mif\u001b[39;00m ax \u001b[39mis\u001b[39;00m \u001b[39mNone\u001b[39;00m:\n\u001b[1;32m   2640\u001b[0m     ax \u001b[39m=\u001b[39m plt\u001b[39m.\u001b[39mgca()\n\u001b[0;32m-> 2642\u001b[0m plotter\u001b[39m.\u001b[39;49mplot(ax, kwargs)\n\u001b[1;32m   2643\u001b[0m \u001b[39mreturn\u001b[39;00m ax\n",
      "File \u001b[0;32m~/miniforge3/envs/torch/lib/python3.8/site-packages/seaborn/categorical.py:2065\u001b[0m, in \u001b[0;36m_LVPlotter.plot\u001b[0;34m(self, ax, boxplot_kws)\u001b[0m\n\u001b[1;32m   2063\u001b[0m \u001b[39mdef\u001b[39;00m \u001b[39mplot\u001b[39m(\u001b[39mself\u001b[39m, ax, boxplot_kws):\n\u001b[1;32m   2064\u001b[0m \u001b[39m    \u001b[39m\u001b[39m\"\"\"Make the plot.\"\"\"\u001b[39;00m\n\u001b[0;32m-> 2065\u001b[0m     \u001b[39mself\u001b[39;49m\u001b[39m.\u001b[39;49mdraw_letter_value_plot(ax, boxplot_kws)\n\u001b[1;32m   2066\u001b[0m     \u001b[39mself\u001b[39m\u001b[39m.\u001b[39mannotate_axes(ax)\n\u001b[1;32m   2067\u001b[0m     \u001b[39mif\u001b[39;00m \u001b[39mself\u001b[39m\u001b[39m.\u001b[39morient \u001b[39m==\u001b[39m \u001b[39m\"\u001b[39m\u001b[39mh\u001b[39m\u001b[39m\"\u001b[39m:\n",
      "File \u001b[0;32m~/miniforge3/envs/torch/lib/python3.8/site-packages/seaborn/categorical.py:2024\u001b[0m, in \u001b[0;36m_LVPlotter.draw_letter_value_plot\u001b[0;34m(self, ax, kws)\u001b[0m\n\u001b[1;32m   2020\u001b[0m         \u001b[39mcontinue\u001b[39;00m\n\u001b[1;32m   2022\u001b[0m     color \u001b[39m=\u001b[39m \u001b[39mself\u001b[39m\u001b[39m.\u001b[39mcolors[i]\n\u001b[0;32m-> 2024\u001b[0m     \u001b[39mself\u001b[39;49m\u001b[39m.\u001b[39;49m_lvplot(box_data,\n\u001b[1;32m   2025\u001b[0m                  positions\u001b[39m=\u001b[39;49m[i],\n\u001b[1;32m   2026\u001b[0m                  color\u001b[39m=\u001b[39;49mcolor,\n\u001b[1;32m   2027\u001b[0m                  widths\u001b[39m=\u001b[39;49m\u001b[39mself\u001b[39;49m\u001b[39m.\u001b[39;49mwidth,\n\u001b[1;32m   2028\u001b[0m                  ax\u001b[39m=\u001b[39;49max,\n\u001b[1;32m   2029\u001b[0m                  \u001b[39m*\u001b[39;49m\u001b[39m*\u001b[39;49mkws)\n\u001b[1;32m   2031\u001b[0m \u001b[39melse\u001b[39;00m:\n\u001b[1;32m   2032\u001b[0m     \u001b[39m# Draw nested groups of boxes\u001b[39;00m\n\u001b[1;32m   2033\u001b[0m     offsets \u001b[39m=\u001b[39m \u001b[39mself\u001b[39m\u001b[39m.\u001b[39mhue_offsets\n",
      "File \u001b[0;32m~/miniforge3/envs/torch/lib/python3.8/site-packages/seaborn/categorical.py:1918\u001b[0m, in \u001b[0;36m_LVPlotter._lvplot\u001b[0;34m(self, box_data, positions, color, widths, ax, **kws)\u001b[0m\n\u001b[1;32m   1914\u001b[0m     ax\u001b[39m.\u001b[39mplot(xx, yy, \u001b[39m*\u001b[39m\u001b[39m*\u001b[39mkws)\n\u001b[1;32m   1915\u001b[0m \u001b[39melse\u001b[39;00m:\n\u001b[1;32m   1916\u001b[0m     \u001b[39m# Get the number of data points and calculate \"depth\" of\u001b[39;00m\n\u001b[1;32m   1917\u001b[0m     \u001b[39m# letter-value plot\u001b[39;00m\n\u001b[0;32m-> 1918\u001b[0m     box_ends, k \u001b[39m=\u001b[39m \u001b[39mself\u001b[39;49m\u001b[39m.\u001b[39;49m_lv_box_ends(box_data)\n\u001b[1;32m   1920\u001b[0m     \u001b[39m# Anonymous functions for calculating the width and height\u001b[39;00m\n\u001b[1;32m   1921\u001b[0m     \u001b[39m# of the letter value boxes\u001b[39;00m\n\u001b[1;32m   1922\u001b[0m     width \u001b[39m=\u001b[39m \u001b[39mself\u001b[39m\u001b[39m.\u001b[39m_width_functions(\u001b[39mself\u001b[39m\u001b[39m.\u001b[39mscale)\n",
      "File \u001b[0;32m~/miniforge3/envs/torch/lib/python3.8/site-packages/seaborn/categorical.py:1876\u001b[0m, in \u001b[0;36m_LVPlotter._lv_box_ends\u001b[0;34m(self, vals)\u001b[0m\n\u001b[1;32m   1874\u001b[0m \u001b[39m# Stitch the box ends together\u001b[39;00m\n\u001b[1;32m   1875\u001b[0m percentile_ends \u001b[39m=\u001b[39m [(i, j) \u001b[39mfor\u001b[39;00m i, j \u001b[39min\u001b[39;00m \u001b[39mzip\u001b[39m(lower, upper)]\n\u001b[0;32m-> 1876\u001b[0m box_ends \u001b[39m=\u001b[39m [np\u001b[39m.\u001b[39mpercentile(vals, q) \u001b[39mfor\u001b[39;00m q \u001b[39min\u001b[39;00m percentile_ends]\n\u001b[1;32m   1877\u001b[0m \u001b[39mreturn\u001b[39;00m box_ends, k\n",
      "File \u001b[0;32m~/miniforge3/envs/torch/lib/python3.8/site-packages/seaborn/categorical.py:1876\u001b[0m, in \u001b[0;36m<listcomp>\u001b[0;34m(.0)\u001b[0m\n\u001b[1;32m   1874\u001b[0m \u001b[39m# Stitch the box ends together\u001b[39;00m\n\u001b[1;32m   1875\u001b[0m percentile_ends \u001b[39m=\u001b[39m [(i, j) \u001b[39mfor\u001b[39;00m i, j \u001b[39min\u001b[39;00m \u001b[39mzip\u001b[39m(lower, upper)]\n\u001b[0;32m-> 1876\u001b[0m box_ends \u001b[39m=\u001b[39m [np\u001b[39m.\u001b[39;49mpercentile(vals, q) \u001b[39mfor\u001b[39;00m q \u001b[39min\u001b[39;00m percentile_ends]\n\u001b[1;32m   1877\u001b[0m \u001b[39mreturn\u001b[39;00m box_ends, k\n",
      "File \u001b[0;32m<__array_function__ internals>:180\u001b[0m, in \u001b[0;36mpercentile\u001b[0;34m(*args, **kwargs)\u001b[0m\n",
      "File \u001b[0;32m~/miniforge3/envs/torch/lib/python3.8/site-packages/numpy/lib/function_base.py:4134\u001b[0m, in \u001b[0;36mpercentile\u001b[0;34m(a, q, axis, out, overwrite_input, method, keepdims, interpolation)\u001b[0m\n\u001b[1;32m   4132\u001b[0m \u001b[39mif\u001b[39;00m \u001b[39mnot\u001b[39;00m _quantile_is_valid(q):\n\u001b[1;32m   4133\u001b[0m     \u001b[39mraise\u001b[39;00m \u001b[39mValueError\u001b[39;00m(\u001b[39m\"\u001b[39m\u001b[39mPercentiles must be in the range [0, 100]\u001b[39m\u001b[39m\"\u001b[39m)\n\u001b[0;32m-> 4134\u001b[0m \u001b[39mreturn\u001b[39;00m _quantile_unchecked(\n\u001b[1;32m   4135\u001b[0m     a, q, axis, out, overwrite_input, method, keepdims)\n",
      "File \u001b[0;32m~/miniforge3/envs/torch/lib/python3.8/site-packages/numpy/lib/function_base.py:4383\u001b[0m, in \u001b[0;36m_quantile_unchecked\u001b[0;34m(a, q, axis, out, overwrite_input, method, keepdims)\u001b[0m\n\u001b[1;32m   4375\u001b[0m \u001b[39mdef\u001b[39;00m \u001b[39m_quantile_unchecked\u001b[39m(a,\n\u001b[1;32m   4376\u001b[0m                         q,\n\u001b[1;32m   4377\u001b[0m                         axis\u001b[39m=\u001b[39m\u001b[39mNone\u001b[39;00m,\n\u001b[0;32m   (...)\u001b[0m\n\u001b[1;32m   4380\u001b[0m                         method\u001b[39m=\u001b[39m\u001b[39m\"\u001b[39m\u001b[39mlinear\u001b[39m\u001b[39m\"\u001b[39m,\n\u001b[1;32m   4381\u001b[0m                         keepdims\u001b[39m=\u001b[39m\u001b[39mFalse\u001b[39;00m):\n\u001b[1;32m   4382\u001b[0m \u001b[39m    \u001b[39m\u001b[39m\"\"\"Assumes that q is in [0, 1], and is an ndarray\"\"\"\u001b[39;00m\n\u001b[0;32m-> 4383\u001b[0m     r, k \u001b[39m=\u001b[39m _ureduce(a,\n\u001b[1;32m   4384\u001b[0m                     func\u001b[39m=\u001b[39;49m_quantile_ureduce_func,\n\u001b[1;32m   4385\u001b[0m                     q\u001b[39m=\u001b[39;49mq,\n\u001b[1;32m   4386\u001b[0m                     axis\u001b[39m=\u001b[39;49maxis,\n\u001b[1;32m   4387\u001b[0m                     out\u001b[39m=\u001b[39;49mout,\n\u001b[1;32m   4388\u001b[0m                     overwrite_input\u001b[39m=\u001b[39;49moverwrite_input,\n\u001b[1;32m   4389\u001b[0m                     method\u001b[39m=\u001b[39;49mmethod)\n\u001b[1;32m   4390\u001b[0m     \u001b[39mif\u001b[39;00m keepdims:\n\u001b[1;32m   4391\u001b[0m         \u001b[39mreturn\u001b[39;00m r\u001b[39m.\u001b[39mreshape(q\u001b[39m.\u001b[39mshape \u001b[39m+\u001b[39m k)\n",
      "File \u001b[0;32m~/miniforge3/envs/torch/lib/python3.8/site-packages/numpy/lib/function_base.py:3702\u001b[0m, in \u001b[0;36m_ureduce\u001b[0;34m(a, func, **kwargs)\u001b[0m\n\u001b[1;32m   3699\u001b[0m \u001b[39melse\u001b[39;00m:\n\u001b[1;32m   3700\u001b[0m     keepdim \u001b[39m=\u001b[39m (\u001b[39m1\u001b[39m,) \u001b[39m*\u001b[39m a\u001b[39m.\u001b[39mndim\n\u001b[0;32m-> 3702\u001b[0m r \u001b[39m=\u001b[39m func(a, \u001b[39m*\u001b[39;49m\u001b[39m*\u001b[39;49mkwargs)\n\u001b[1;32m   3703\u001b[0m \u001b[39mreturn\u001b[39;00m r, keepdim\n",
      "File \u001b[0;32m~/miniforge3/envs/torch/lib/python3.8/site-packages/numpy/lib/function_base.py:4552\u001b[0m, in \u001b[0;36m_quantile_ureduce_func\u001b[0;34m(a, q, axis, out, overwrite_input, method)\u001b[0m\n\u001b[1;32m   4550\u001b[0m     \u001b[39melse\u001b[39;00m:\n\u001b[1;32m   4551\u001b[0m         arr \u001b[39m=\u001b[39m a\u001b[39m.\u001b[39mcopy()\n\u001b[0;32m-> 4552\u001b[0m result \u001b[39m=\u001b[39m _quantile(arr,\n\u001b[1;32m   4553\u001b[0m                    quantiles\u001b[39m=\u001b[39;49mq,\n\u001b[1;32m   4554\u001b[0m                    axis\u001b[39m=\u001b[39;49maxis,\n\u001b[1;32m   4555\u001b[0m                    method\u001b[39m=\u001b[39;49mmethod,\n\u001b[1;32m   4556\u001b[0m                    out\u001b[39m=\u001b[39;49mout)\n\u001b[1;32m   4557\u001b[0m \u001b[39mreturn\u001b[39;00m result\n",
      "File \u001b[0;32m~/miniforge3/envs/torch/lib/python3.8/site-packages/numpy/lib/function_base.py:4669\u001b[0m, in \u001b[0;36m_quantile\u001b[0;34m(arr, quantiles, axis, method, out)\u001b[0m\n\u001b[1;32m   4667\u001b[0m     result_shape \u001b[39m=\u001b[39m virtual_indexes\u001b[39m.\u001b[39mshape \u001b[39m+\u001b[39m (\u001b[39m1\u001b[39m,) \u001b[39m*\u001b[39m (arr\u001b[39m.\u001b[39mndim \u001b[39m-\u001b[39m \u001b[39m1\u001b[39m)\n\u001b[1;32m   4668\u001b[0m     gamma \u001b[39m=\u001b[39m gamma\u001b[39m.\u001b[39mreshape(result_shape)\n\u001b[0;32m-> 4669\u001b[0m     result \u001b[39m=\u001b[39m _lerp(previous,\n\u001b[1;32m   4670\u001b[0m                    \u001b[39mnext\u001b[39;49m,\n\u001b[1;32m   4671\u001b[0m                    gamma,\n\u001b[1;32m   4672\u001b[0m                    out\u001b[39m=\u001b[39;49mout)\n\u001b[1;32m   4673\u001b[0m \u001b[39mif\u001b[39;00m np\u001b[39m.\u001b[39many(slices_having_nans):\n\u001b[1;32m   4674\u001b[0m     \u001b[39mif\u001b[39;00m result\u001b[39m.\u001b[39mndim \u001b[39m==\u001b[39m \u001b[39m0\u001b[39m \u001b[39mand\u001b[39;00m out \u001b[39mis\u001b[39;00m \u001b[39mNone\u001b[39;00m:\n\u001b[1;32m   4675\u001b[0m         \u001b[39m# can't write to a scalar\u001b[39;00m\n",
      "File \u001b[0;32m~/miniforge3/envs/torch/lib/python3.8/site-packages/numpy/lib/function_base.py:4486\u001b[0m, in \u001b[0;36m_lerp\u001b[0;34m(a, b, t, out)\u001b[0m\n\u001b[1;32m   4472\u001b[0m \u001b[39mdef\u001b[39;00m \u001b[39m_lerp\u001b[39m(a, b, t, out\u001b[39m=\u001b[39m\u001b[39mNone\u001b[39;00m):\n\u001b[1;32m   4473\u001b[0m \u001b[39m    \u001b[39m\u001b[39m\"\"\"\u001b[39;00m\n\u001b[1;32m   4474\u001b[0m \u001b[39m    Compute the linear interpolation weighted by gamma on each point of\u001b[39;00m\n\u001b[1;32m   4475\u001b[0m \u001b[39m    two same shape array.\u001b[39;00m\n\u001b[0;32m   (...)\u001b[0m\n\u001b[1;32m   4484\u001b[0m \u001b[39m        Output array.\u001b[39;00m\n\u001b[1;32m   4485\u001b[0m \u001b[39m    \"\"\"\u001b[39;00m\n\u001b[0;32m-> 4486\u001b[0m     diff_b_a \u001b[39m=\u001b[39m subtract(b, a)\n\u001b[1;32m   4487\u001b[0m     \u001b[39m# asanyarray is a stop-gap until gh-13105\u001b[39;00m\n\u001b[1;32m   4488\u001b[0m     lerp_interpolation \u001b[39m=\u001b[39m asanyarray(add(a, diff_b_a \u001b[39m*\u001b[39m t, out\u001b[39m=\u001b[39mout))\n",
      "\u001b[0;31mTypeError\u001b[0m: numpy boolean subtract, the `-` operator, is not supported, use the bitwise_xor, the `^` operator, or the logical_xor function instead."
     ]
    },
    {
     "data": {
      "image/png": "[encoded data removed]",
      "text/plain": [
       "<Figure size 360x360 with 1 Axes>"
      ]
     },
     "metadata": {
      "needs_background": "light"
     },
     "output_type": "display_data"
    }
   ],
   "source": [
    "sns.catplot(data=data, x='compartment', y='connected', kind='boxen')\n"
   ]
  },
  {
   "cell_type": "markdown",
   "id": "3a78d7f6",
   "metadata": {},
   "source": [
    "## Example: Simple Logistic Regression"
   ]
  },
  {
   "cell_type": "markdown",
   "id": "937655df",
   "metadata": {},
   "source": [
    "Now that we have shown some features are associated with neuron connectivity, we fit a simple calssification model: Logistic Regression."
   ]
  },
  {
   "cell_type": "code",
   "execution_count": 56,
   "metadata": {},
   "outputs": [],
   "source": [
    "# logistic regression model (connected ~ fw_similarity + adp)\n",
    "from sklearn.linear_model import LogisticRegression\n",
    "from sklearn.metrics import balanced_accuracy_score, accuracy_score, confusion_matrix\n",
    "from sklearn.model_selection import train_test_split\n",
    "from sklearn.preprocessing import StandardScaler\n",
    "from sklearn.pipeline import Pipeline\n",
    "from sklearn.ensemble import RandomForestClassifier\n",
    "from sklearn.model_selection import RandomizedSearchCV\n",
    "from sklearn.model_selection import GridSearchCV\n",
    "\n",
    "pipe = Pipeline([\n",
    "    ('scaler', StandardScaler()),\n",
    "    ('model', RandomForestClassifier(random_state=2))\n",
    "])\n",
    "\n",
    "# Define the parameter grid to search\n",
    "param_grid = {\n",
    "    'model__n_estimators': [100, 200, 300],\n",
    "    'model__max_depth': [None, 10, 20, 30],\n",
    "    'model__min_samples_split': [2, 5, 10],\n",
    "    'model__min_samples_leaf': [1, 2, 4]\n",
    "}\n"
   ]
  },
  {
   "cell_type": "code",
   "execution_count": 57,
   "id": "54850f42",
   "metadata": {},
   "outputs": [
    {
     "name": "stdout",
     "output_type": "stream",
     "text": [
      "Fitting 5 folds for each of 10 candidates, totalling 50 fits\n",
      "accuracy: 0.9926009632200609\n"
     ]
    }
   ],
   "source": [
    "train_data, test_data = train_test_split(df, test_size=0.2, random_state=1)\n",
    "\n",
    "# Initialize GridSearchCV\n",
    "grid_search = RandomizedSearchCV(pipe, param_grid, cv=5, verbose=1, n_jobs=-1)\n",
    "\n",
    "# Fit GridSearchCV to the training data\n",
    "grid_search.fit(train_data[[\"fw_similarity\", \"adp_dist\"] + prj_cols], train_data[\"connected\"])\n",
    "\n",
    "# Get the best estimator\n",
    "best_model = grid_search.best_estimator_\n",
    "\n",
    "# Predict on test data\n",
    "test_data['pred'] = best_model.predict(test_data[[\"fw_similarity\", \"adp_dist\"] + prj_cols])\n",
    "# fit model\n",
    "pipe.fit(train_data[[\"fw_similarity\", \"adp_dist\"] + prj_cols], train_data[\"connected\"])\n",
    "\n",
    "# predict on test data\n",
    "test_data[\"pred\"] = pipe.predict_proba(test_data[[\"fw_similarity\", \"adp_dist\"] + prj_cols])[:, 1]\n",
    "\n",
    "# compute accuracy\n",
    "print(f\"accuracy: {accuracy_score(test_data['connected'], test_data['pred'] > .5)}\")\n"
   ]
  },
  {
   "cell_type": "code",
   "execution_count": 58,
   "metadata": {},
   "outputs": [
    {
     "data": {
      "text/plain": [
       "{'memory': None,\n",
       " 'steps': [('scaler', StandardScaler()),\n",
       "  ('model',\n",
       "   RandomForestClassifier(max_depth=20, min_samples_split=10, n_estimators=200,\n",
       "                          random_state=2))],\n",
       " 'verbose': False,\n",
       " 'scaler': StandardScaler(),\n",
       " 'model': RandomForestClassifier(max_depth=20, min_samples_split=10, n_estimators=200,\n",
       "                        random_state=2),\n",
       " 'scaler__copy': True,\n",
       " 'scaler__with_mean': True,\n",
       " 'scaler__with_std': True,\n",
       " 'model__bootstrap': True,\n",
       " 'model__ccp_alpha': 0.0,\n",
       " 'model__class_weight': None,\n",
       " 'model__criterion': 'gini',\n",
       " 'model__max_depth': 20,\n",
       " 'model__max_features': 'auto',\n",
       " 'model__max_leaf_nodes': None,\n",
       " 'model__max_samples': None,\n",
       " 'model__min_impurity_decrease': 0.0,\n",
       " 'model__min_samples_leaf': 1,\n",
       " 'model__min_samples_split': 10,\n",
       " 'model__min_weight_fraction_leaf': 0.0,\n",
       " 'model__n_estimators': 200,\n",
       " 'model__n_jobs': None,\n",
       " 'model__oob_score': False,\n",
       " 'model__random_state': 2,\n",
       " 'model__verbose': 0,\n",
       " 'model__warm_start': False}"
      ]
     },
     "execution_count": 58,
     "metadata": {},
     "output_type": "execute_result"
    }
   ],
   "source": [
    "best_model.get_params()"
   ]
  },
  {
   "cell_type": "markdown",
   "id": "ec2397d5",
   "metadata": {},
   "source": [
    "Wow.  This looks like terrific accuracy.  But, remember the data is unbalanced.  Let's check the confusion matrix."
   ]
  },
  {
   "cell_type": "code",
   "execution_count": 59,
   "id": "2b351fdd",
   "metadata": {},
   "outputs": [
    {
     "data": {
      "text/plain": [
       "array([[36892,     4],\n",
       "       [  271,     0]])"
      ]
     },
     "execution_count": 59,
     "metadata": {},
     "output_type": "execute_result"
    }
   ],
   "source": [
    "confusion_matrix(test_data['connected'], test_data['pred'] > .5)"
   ]
  },
  {
   "cell_type": "markdown",
   "id": "e4faf555",
   "metadata": {},
   "source": [
    "The model always predicts not connected!  We need a new evaluation metric."
   ]
  },
  {
   "cell_type": "markdown",
   "id": "5157b7fb",
   "metadata": {},
   "source": [
    "### Balanced Accuracy Metric"
   ]
  },
  {
   "cell_type": "markdown",
   "id": "b83390f1",
   "metadata": {},
   "source": [
    "Sensitivity = True Positive Rate = True Positive / (True Positive + False Negative)\n",
    "Specificity = True Negative Rate = True Negative / (True Negative + False Positive)\n",
    "\n",
    "Balanced Accuracy = (Sensitivity + Specificity)/2"
   ]
  },
  {
   "cell_type": "code",
   "execution_count": 60,
   "id": "2481e7b8",
   "metadata": {},
   "outputs": [
    {
     "name": "stdout",
     "output_type": "stream",
     "text": [
      "balanced accuracy: 0.4999457935819601\n"
     ]
    },
    {
     "data": {
      "text/plain": [
       "count    37167.000000\n",
       "mean         0.007323\n",
       "std          0.030021\n",
       "min          0.000000\n",
       "25%          0.000000\n",
       "50%          0.000000\n",
       "75%          0.000000\n",
       "max          0.580000\n",
       "Name: pred, dtype: float64"
      ]
     },
     "execution_count": 60,
     "metadata": {},
     "output_type": "execute_result"
    }
   ],
   "source": [
    "# no data augmentation results\n",
    "print(\n",
    "    f\"balanced accuracy: {balanced_accuracy_score(test_data['connected'], test_data['pred'] > .5)}\"\n",
    ")\n",
    "test_data['pred'].describe()"
   ]
  },
  {
   "cell_type": "code",
   "execution_count": null,
   "metadata": {},
   "outputs": [],
   "source": [
    "'''\n",
    "PIPELINE FOR RANDOM FORESTS\n",
    "# Create an imbalanced-learn pipeline\n",
    "pipe = ImbPipeline([\n",
    "    ('scaler', StandardScaler()),\n",
    "    ('sampling', SMOTE(random_state=2)),\n",
    "    ('model', RandomForestClassifier(random_state=2))\n",
    "])\n",
    "\n",
    "# Define the parameter grid\n",
    "param_grid = {\n",
    "    'model__n_estimators': [100, 200, 300],\n",
    "    'model__max_depth': [None, 10, 20, 30],\n",
    "    'model__min_samples_split': [2, 5, 10],\n",
    "    'model__min_samples_leaf': [1, 2, 4]\n",
    "}\n",
    "'''\n",
    "\n",
    "'''\n",
    "LOGISTIC REGRESSION\n",
    "pipe = ImbPipeline([\n",
    "    ('scaler', StandardScaler()),\n",
    "    ('sampling', SMOTE(random_state=2)),\n",
    "    ('model', LogisticRegression(random_state=2))\n",
    "])\n",
    "\n",
    "# Define the parameter grid to search\n",
    "param_grid = {\n",
    "    'model__C': [0.001, 0.01, 0.1, 1, 10, 100],  # Regularization strength\n",
    "    'model__penalty': ['l1', 'l2'],  # Regularization type\n",
    "    'model__solver': ['liblinear', 'saga']  # Optimization algorithm\n",
    "}\n",
    "'''"
   ]
  },
  {
   "cell_type": "code",
   "execution_count": 69,
   "metadata": {},
   "outputs": [
    {
     "name": "stdout",
     "output_type": "stream",
     "text": [
      "Fitting 5 folds for each of 4 candidates, totalling 20 fits\n"
     ]
    },
    {
     "ename": "KeyboardInterrupt",
     "evalue": "",
     "output_type": "error",
     "traceback": [
      "\u001b[0;31m---------------------------------------------------------------------------\u001b[0m",
      "\u001b[0;31mKeyboardInterrupt\u001b[0m                         Traceback (most recent call last)",
      "\u001b[1;32m/Users/danielcufino/Desktop/rice/F23/ELEC478/competition/neuron-synapse-prediction/example_nb_exploration.ipynb Cell 58\u001b[0m line \u001b[0;36m<cell line: 33>\u001b[0;34m()\u001b[0m\n\u001b[1;32m     <a href='vscode-notebook-cell:/Users/danielcufino/Desktop/rice/F23/ELEC478/competition/neuron-synapse-prediction/example_nb_exploration.ipynb#Y142sZmlsZQ%3D%3D?line=29'>30</a>\u001b[0m grid_search \u001b[39m=\u001b[39m GridSearchCV(pipe, param_grid, cv\u001b[39m=\u001b[39m\u001b[39m5\u001b[39m, verbose\u001b[39m=\u001b[39m\u001b[39m3\u001b[39m, n_jobs\u001b[39m=\u001b[39m\u001b[39m-\u001b[39m\u001b[39m1\u001b[39m)\n\u001b[1;32m     <a href='vscode-notebook-cell:/Users/danielcufino/Desktop/rice/F23/ELEC478/competition/neuron-synapse-prediction/example_nb_exploration.ipynb#Y142sZmlsZQ%3D%3D?line=31'>32</a>\u001b[0m \u001b[39m# Fit RandomizedSearchCV to the training data\u001b[39;00m\n\u001b[0;32m---> <a href='vscode-notebook-cell:/Users/danielcufino/Desktop/rice/F23/ELEC478/competition/neuron-synapse-prediction/example_nb_exploration.ipynb#Y142sZmlsZQ%3D%3D?line=32'>33</a>\u001b[0m grid_search\u001b[39m.\u001b[39;49mfit(train_data[[\u001b[39m\"\u001b[39;49m\u001b[39mfw_similarity\u001b[39;49m\u001b[39m\"\u001b[39;49m, \u001b[39m\"\u001b[39;49m\u001b[39madp_dist\u001b[39;49m\u001b[39m\"\u001b[39;49m] \u001b[39m+\u001b[39;49m prj_cols], train_data[\u001b[39m\"\u001b[39;49m\u001b[39mconnected\u001b[39;49m\u001b[39m\"\u001b[39;49m])\n\u001b[1;32m     <a href='vscode-notebook-cell:/Users/danielcufino/Desktop/rice/F23/ELEC478/competition/neuron-synapse-prediction/example_nb_exploration.ipynb#Y142sZmlsZQ%3D%3D?line=34'>35</a>\u001b[0m \u001b[39m# Get the best estimator\u001b[39;00m\n\u001b[1;32m     <a href='vscode-notebook-cell:/Users/danielcufino/Desktop/rice/F23/ELEC478/competition/neuron-synapse-prediction/example_nb_exploration.ipynb#Y142sZmlsZQ%3D%3D?line=35'>36</a>\u001b[0m best_model \u001b[39m=\u001b[39m grid_search\u001b[39m.\u001b[39mbest_estimator_\n",
      "File \u001b[0;32m~/miniforge3/envs/torch/lib/python3.8/site-packages/sklearn/model_selection/_search.py:891\u001b[0m, in \u001b[0;36mBaseSearchCV.fit\u001b[0;34m(self, X, y, groups, **fit_params)\u001b[0m\n\u001b[1;32m    885\u001b[0m     results \u001b[39m=\u001b[39m \u001b[39mself\u001b[39m\u001b[39m.\u001b[39m_format_results(\n\u001b[1;32m    886\u001b[0m         all_candidate_params, n_splits, all_out, all_more_results\n\u001b[1;32m    887\u001b[0m     )\n\u001b[1;32m    889\u001b[0m     \u001b[39mreturn\u001b[39;00m results\n\u001b[0;32m--> 891\u001b[0m \u001b[39mself\u001b[39;49m\u001b[39m.\u001b[39;49m_run_search(evaluate_candidates)\n\u001b[1;32m    893\u001b[0m \u001b[39m# multimetric is determined here because in the case of a callable\u001b[39;00m\n\u001b[1;32m    894\u001b[0m \u001b[39m# self.scoring the return type is only known after calling\u001b[39;00m\n\u001b[1;32m    895\u001b[0m first_test_score \u001b[39m=\u001b[39m all_out[\u001b[39m0\u001b[39m][\u001b[39m\"\u001b[39m\u001b[39mtest_scores\u001b[39m\u001b[39m\"\u001b[39m]\n",
      "File \u001b[0;32m~/miniforge3/envs/torch/lib/python3.8/site-packages/sklearn/model_selection/_search.py:1392\u001b[0m, in \u001b[0;36mGridSearchCV._run_search\u001b[0;34m(self, evaluate_candidates)\u001b[0m\n\u001b[1;32m   1390\u001b[0m \u001b[39mdef\u001b[39;00m \u001b[39m_run_search\u001b[39m(\u001b[39mself\u001b[39m, evaluate_candidates):\n\u001b[1;32m   1391\u001b[0m \u001b[39m    \u001b[39m\u001b[39m\"\"\"Search all candidates in param_grid\"\"\"\u001b[39;00m\n\u001b[0;32m-> 1392\u001b[0m     evaluate_candidates(ParameterGrid(\u001b[39mself\u001b[39;49m\u001b[39m.\u001b[39;49mparam_grid))\n",
      "File \u001b[0;32m~/miniforge3/envs/torch/lib/python3.8/site-packages/sklearn/model_selection/_search.py:838\u001b[0m, in \u001b[0;36mBaseSearchCV.fit.<locals>.evaluate_candidates\u001b[0;34m(candidate_params, cv, more_results)\u001b[0m\n\u001b[1;32m    830\u001b[0m \u001b[39mif\u001b[39;00m \u001b[39mself\u001b[39m\u001b[39m.\u001b[39mverbose \u001b[39m>\u001b[39m \u001b[39m0\u001b[39m:\n\u001b[1;32m    831\u001b[0m     \u001b[39mprint\u001b[39m(\n\u001b[1;32m    832\u001b[0m         \u001b[39m\"\u001b[39m\u001b[39mFitting \u001b[39m\u001b[39m{0}\u001b[39;00m\u001b[39m folds for each of \u001b[39m\u001b[39m{1}\u001b[39;00m\u001b[39m candidates,\u001b[39m\u001b[39m\"\u001b[39m\n\u001b[1;32m    833\u001b[0m         \u001b[39m\"\u001b[39m\u001b[39m totalling \u001b[39m\u001b[39m{2}\u001b[39;00m\u001b[39m fits\u001b[39m\u001b[39m\"\u001b[39m\u001b[39m.\u001b[39mformat(\n\u001b[1;32m    834\u001b[0m             n_splits, n_candidates, n_candidates \u001b[39m*\u001b[39m n_splits\n\u001b[1;32m    835\u001b[0m         )\n\u001b[1;32m    836\u001b[0m     )\n\u001b[0;32m--> 838\u001b[0m out \u001b[39m=\u001b[39m parallel(\n\u001b[1;32m    839\u001b[0m     delayed(_fit_and_score)(\n\u001b[1;32m    840\u001b[0m         clone(base_estimator),\n\u001b[1;32m    841\u001b[0m         X,\n\u001b[1;32m    842\u001b[0m         y,\n\u001b[1;32m    843\u001b[0m         train\u001b[39m=\u001b[39;49mtrain,\n\u001b[1;32m    844\u001b[0m         test\u001b[39m=\u001b[39;49mtest,\n\u001b[1;32m    845\u001b[0m         parameters\u001b[39m=\u001b[39;49mparameters,\n\u001b[1;32m    846\u001b[0m         split_progress\u001b[39m=\u001b[39;49m(split_idx, n_splits),\n\u001b[1;32m    847\u001b[0m         candidate_progress\u001b[39m=\u001b[39;49m(cand_idx, n_candidates),\n\u001b[1;32m    848\u001b[0m         \u001b[39m*\u001b[39;49m\u001b[39m*\u001b[39;49mfit_and_score_kwargs,\n\u001b[1;32m    849\u001b[0m     )\n\u001b[1;32m    850\u001b[0m     \u001b[39mfor\u001b[39;49;00m (cand_idx, parameters), (split_idx, (train, test)) \u001b[39min\u001b[39;49;00m product(\n\u001b[1;32m    851\u001b[0m         \u001b[39menumerate\u001b[39;49m(candidate_params), \u001b[39menumerate\u001b[39;49m(cv\u001b[39m.\u001b[39;49msplit(X, y, groups))\n\u001b[1;32m    852\u001b[0m     )\n\u001b[1;32m    853\u001b[0m )\n\u001b[1;32m    855\u001b[0m \u001b[39mif\u001b[39;00m \u001b[39mlen\u001b[39m(out) \u001b[39m<\u001b[39m \u001b[39m1\u001b[39m:\n\u001b[1;32m    856\u001b[0m     \u001b[39mraise\u001b[39;00m \u001b[39mValueError\u001b[39;00m(\n\u001b[1;32m    857\u001b[0m         \u001b[39m\"\u001b[39m\u001b[39mNo fits were performed. \u001b[39m\u001b[39m\"\u001b[39m\n\u001b[1;32m    858\u001b[0m         \u001b[39m\"\u001b[39m\u001b[39mWas the CV iterator empty? \u001b[39m\u001b[39m\"\u001b[39m\n\u001b[1;32m    859\u001b[0m         \u001b[39m\"\u001b[39m\u001b[39mWere there no candidates?\u001b[39m\u001b[39m\"\u001b[39m\n\u001b[1;32m    860\u001b[0m     )\n",
      "File \u001b[0;32m~/miniforge3/envs/torch/lib/python3.8/site-packages/joblib/parallel.py:1056\u001b[0m, in \u001b[0;36mParallel.__call__\u001b[0;34m(self, iterable)\u001b[0m\n\u001b[1;32m   1053\u001b[0m     \u001b[39mself\u001b[39m\u001b[39m.\u001b[39m_iterating \u001b[39m=\u001b[39m \u001b[39mFalse\u001b[39;00m\n\u001b[1;32m   1055\u001b[0m \u001b[39mwith\u001b[39;00m \u001b[39mself\u001b[39m\u001b[39m.\u001b[39m_backend\u001b[39m.\u001b[39mretrieval_context():\n\u001b[0;32m-> 1056\u001b[0m     \u001b[39mself\u001b[39;49m\u001b[39m.\u001b[39;49mretrieve()\n\u001b[1;32m   1057\u001b[0m \u001b[39m# Make sure that we get a last message telling us we are done\u001b[39;00m\n\u001b[1;32m   1058\u001b[0m elapsed_time \u001b[39m=\u001b[39m time\u001b[39m.\u001b[39mtime() \u001b[39m-\u001b[39m \u001b[39mself\u001b[39m\u001b[39m.\u001b[39m_start_time\n",
      "File \u001b[0;32m~/miniforge3/envs/torch/lib/python3.8/site-packages/joblib/parallel.py:935\u001b[0m, in \u001b[0;36mParallel.retrieve\u001b[0;34m(self)\u001b[0m\n\u001b[1;32m    933\u001b[0m \u001b[39mtry\u001b[39;00m:\n\u001b[1;32m    934\u001b[0m     \u001b[39mif\u001b[39;00m \u001b[39mgetattr\u001b[39m(\u001b[39mself\u001b[39m\u001b[39m.\u001b[39m_backend, \u001b[39m'\u001b[39m\u001b[39msupports_timeout\u001b[39m\u001b[39m'\u001b[39m, \u001b[39mFalse\u001b[39;00m):\n\u001b[0;32m--> 935\u001b[0m         \u001b[39mself\u001b[39m\u001b[39m.\u001b[39m_output\u001b[39m.\u001b[39mextend(job\u001b[39m.\u001b[39;49mget(timeout\u001b[39m=\u001b[39;49m\u001b[39mself\u001b[39;49m\u001b[39m.\u001b[39;49mtimeout))\n\u001b[1;32m    936\u001b[0m     \u001b[39melse\u001b[39;00m:\n\u001b[1;32m    937\u001b[0m         \u001b[39mself\u001b[39m\u001b[39m.\u001b[39m_output\u001b[39m.\u001b[39mextend(job\u001b[39m.\u001b[39mget())\n",
      "File \u001b[0;32m~/miniforge3/envs/torch/lib/python3.8/site-packages/joblib/_parallel_backends.py:542\u001b[0m, in \u001b[0;36mLokyBackend.wrap_future_result\u001b[0;34m(future, timeout)\u001b[0m\n\u001b[1;32m    539\u001b[0m \u001b[39m\u001b[39m\u001b[39m\"\"\"Wrapper for Future.result to implement the same behaviour as\u001b[39;00m\n\u001b[1;32m    540\u001b[0m \u001b[39mAsyncResults.get from multiprocessing.\"\"\"\u001b[39;00m\n\u001b[1;32m    541\u001b[0m \u001b[39mtry\u001b[39;00m:\n\u001b[0;32m--> 542\u001b[0m     \u001b[39mreturn\u001b[39;00m future\u001b[39m.\u001b[39;49mresult(timeout\u001b[39m=\u001b[39;49mtimeout)\n\u001b[1;32m    543\u001b[0m \u001b[39mexcept\u001b[39;00m CfTimeoutError \u001b[39mas\u001b[39;00m e:\n\u001b[1;32m    544\u001b[0m     \u001b[39mraise\u001b[39;00m \u001b[39mTimeoutError\u001b[39;00m \u001b[39mfrom\u001b[39;00m \u001b[39me\u001b[39;00m\n",
      "File \u001b[0;32m~/miniforge3/envs/torch/lib/python3.8/concurrent/futures/_base.py:439\u001b[0m, in \u001b[0;36mFuture.result\u001b[0;34m(self, timeout)\u001b[0m\n\u001b[1;32m    436\u001b[0m \u001b[39melif\u001b[39;00m \u001b[39mself\u001b[39m\u001b[39m.\u001b[39m_state \u001b[39m==\u001b[39m FINISHED:\n\u001b[1;32m    437\u001b[0m     \u001b[39mreturn\u001b[39;00m \u001b[39mself\u001b[39m\u001b[39m.\u001b[39m__get_result()\n\u001b[0;32m--> 439\u001b[0m \u001b[39mself\u001b[39;49m\u001b[39m.\u001b[39;49m_condition\u001b[39m.\u001b[39;49mwait(timeout)\n\u001b[1;32m    441\u001b[0m \u001b[39mif\u001b[39;00m \u001b[39mself\u001b[39m\u001b[39m.\u001b[39m_state \u001b[39min\u001b[39;00m [CANCELLED, CANCELLED_AND_NOTIFIED]:\n\u001b[1;32m    442\u001b[0m     \u001b[39mraise\u001b[39;00m CancelledError()\n",
      "File \u001b[0;32m~/miniforge3/envs/torch/lib/python3.8/threading.py:302\u001b[0m, in \u001b[0;36mCondition.wait\u001b[0;34m(self, timeout)\u001b[0m\n\u001b[1;32m    300\u001b[0m \u001b[39mtry\u001b[39;00m:    \u001b[39m# restore state no matter what (e.g., KeyboardInterrupt)\u001b[39;00m\n\u001b[1;32m    301\u001b[0m     \u001b[39mif\u001b[39;00m timeout \u001b[39mis\u001b[39;00m \u001b[39mNone\u001b[39;00m:\n\u001b[0;32m--> 302\u001b[0m         waiter\u001b[39m.\u001b[39;49macquire()\n\u001b[1;32m    303\u001b[0m         gotit \u001b[39m=\u001b[39m \u001b[39mTrue\u001b[39;00m\n\u001b[1;32m    304\u001b[0m     \u001b[39melse\u001b[39;00m:\n",
      "\u001b[0;31mKeyboardInterrupt\u001b[0m: "
     ]
    }
   ],
   "source": [
    "from imblearn.over_sampling import SMOTE\n",
    "from imblearn.pipeline import Pipeline as ImbPipeline\n",
    "from sklearn.ensemble import RandomForestClassifier\n",
    "from sklearn.svm import SVC\n",
    "\n",
    "# Create an imbalanced-learn pipeline with Logistic Regression\n",
    "\n",
    "\n",
    "pipe = ImbPipeline([\n",
    "    ('scaler', StandardScaler()),   # Feature scaling is critical for SVM\n",
    "    ('sampling', SMOTE(random_state=2)),\n",
    "    ('model', SVC(probability=True, random_state=2))  # probability=True for predict_proba\n",
    "])\n",
    "\n",
    "# Define the parameter grid to search\n",
    "# param_grid = {\n",
    "#     'model__C': [0.1, 1, 10],                 # Regularization parameter\n",
    "#     'model__gamma': [0.001, 0.01, 0.1, 1],    # Kernel coefficient\n",
    "#     'model__kernel': ['rbf']                  # Kernel type\n",
    "# }\n",
    "param_grid = {\n",
    "    'model__C': [0.1, 1],                 # Regularization parameter\n",
    "    'model__gamma': [0.01, 0.1],    # Kernel coefficient\n",
    "    'model__kernel': ['linear']                  # Kernel type\n",
    "}\n",
    "\n",
    "train_data, test_data = train_test_split(df, test_size=0.2, random_state=1)\n",
    "\n",
    "# Initialize RandomizedSearchCV\n",
    "grid_search = GridSearchCV(pipe, param_grid, cv=5, verbose=3, n_jobs=-1)\n",
    "\n",
    "# Fit RandomizedSearchCV to the training data\n",
    "grid_search.fit(train_data[[\"fw_similarity\", \"adp_dist\"] + prj_cols], train_data[\"connected\"])\n",
    "\n",
    "# Get the best estimator\n",
    "best_model = grid_search.best_estimator_\n",
    "\n",
    "# Predict on test data\n",
    "test_data['pred'] = best_model.predict(test_data[[\"fw_similarity\", \"adp_dist\"] + prj_cols])"
   ]
  },
  {
   "cell_type": "code",
   "execution_count": 65,
   "metadata": {},
   "outputs": [
    {
     "data": {
      "text/plain": [
       "Pipeline(steps=[('scaler', StandardScaler()),\n",
       "                ('sampling', SMOTE(random_state=2)),\n",
       "                ('model',\n",
       "                 LogisticRegression(C=1, penalty='l1', random_state=2,\n",
       "                                    solver='liblinear'))])"
      ]
     },
     "execution_count": 65,
     "metadata": {},
     "output_type": "execute_result"
    }
   ],
   "source": [
    "best_model"
   ]
  },
  {
   "cell_type": "code",
   "execution_count": 67,
   "metadata": {},
   "outputs": [
    {
     "name": "stdout",
     "output_type": "stream",
     "text": [
      "Accuracy: 0.6628729787176797\n",
      "Balanced Accuracy: 0.7386250532062997\n",
      "[[24416 12480]\n",
      " [   50   221]]\n"
     ]
    }
   ],
   "source": [
    "# Compute accuracy\n",
    "accuracy = accuracy_score(test_data['connected'], test_data['pred'] > 0.5)\n",
    "print(f\"Accuracy: {accuracy}\")\n",
    "\n",
    "# Compute balanced accuracy\n",
    "balanced_accuracy = balanced_accuracy_score(test_data['connected'], test_data['pred'] > 0.5)\n",
    "print(f\"Balanced Accuracy: {balanced_accuracy}\")\n",
    "\n",
    "# Display the confusion matrix\n",
    "conf_matrix = confusion_matrix(test_data['connected'], test_data['pred'] > 0.5)\n",
    "print(conf_matrix)\n"
   ]
  },
  {
   "cell_type": "markdown",
   "id": "5947b122",
   "metadata": {},
   "source": [
    "## Data Augmentation for Unbalanced Classification"
   ]
  },
  {
   "cell_type": "markdown",
   "id": "5b4b933c",
   "metadata": {},
   "source": [
    "As our simple model always predicts not connected, we need to use some technique that balances the two classes.  While there are many strategies one can employ, we demostrate a simple random over sampling strategy that uses the bootstrap to augment the data for the minority ('connected') class.  "
   ]
  },
  {
   "cell_type": "code",
   "execution_count": 53,
   "id": "b45c9e7e",
   "metadata": {},
   "outputs": [
    {
     "name": "stdout",
     "output_type": "stream",
     "text": [
      "accuracy: 0.9911480614523637\n",
      "[[36837    59]\n",
      " [  270     1]]\n",
      "balanced accuracy: 0.501045473784096\n"
     ]
    }
   ],
   "source": [
    "from imblearn.over_sampling import RandomOverSampler\n",
    "\n",
    "# oversample connected neuron pairs\n",
    "ros = RandomOverSampler(random_state=0)\n",
    "X_resampled, y_resampled = ros.fit_resample(\n",
    "    train_data[[\"fw_similarity\", \"adp_dist\", ] + prj_cols], train_data[\"connected\"]\n",
    ")\n",
    "# print(np.any(np.isnan(X_resampled)), np.any(np.isnan(y_resampled)))\n",
    "# print(np.all(np.isfinite(X_resampled)), np.all(np.isfinite(y_resampled)))\n",
    "# print(X_resampled.head(), y_resampled.head())\n",
    "\n",
    "\n",
    "# fit model\n",
    "pipe.fit(X_resampled, y_resampled)\n",
    "\n",
    "# predict on test data\n",
    "test_data[\"pred\"] = pipe.predict_proba(test_data[[\"fw_similarity\", \"adp_dist\", ] + prj_cols])[:, 1]\n",
    "\n",
    "# compute accuracy\n",
    "print(f\"accuracy: {accuracy_score(test_data['connected'], test_data['pred'] > .5)}\")\n",
    "\n",
    "# confusion matrix\n",
    "print(confusion_matrix(test_data['connected'], test_data['pred'] > .5))\n",
    "\n",
    "# compute balanced accuracy\n",
    "print(\n",
    "    f\"balanced accuracy: {balanced_accuracy_score(test_data['connected'], test_data['pred'] > .5)}\"\n",
    ")"
   ]
  },
  {
   "cell_type": "code",
   "execution_count": null,
   "metadata": {},
   "outputs": [],
   "source": [
    "# Define the parameter distribution to sample from\n",
    "param_distributions = {\n",
    "    'model__n_estimators': [100, 200, 300, 400, 500],\n",
    "    'model__max_depth': [None, 10, 20, 30, 40],\n",
    "    'model__min_samples_split': [2, 5, 10],\n",
    "    'model__min_samples_leaf': [1, 2, 4]\n",
    "}\n",
    "\n",
    "# Initialize RandomizedSearchCV\n",
    "random_search = RandomizedSearchCV(pipe, param_distributions, n_iter=100, cv=5, verbose=1, n_jobs=-1, random_state=2)\n",
    "\n",
    "# Fit RandomizedSearchCV to the training data\n",
    "random_search.fit(train_data[[\"fw_similarity\", \"adp_dist\"] + prj_cols], train_data[\"connected\"])\n",
    "\n",
    "# Get the best estimator\n",
    "best_model = random_search.best_estimator_\n",
    "\n",
    "# Predict on test data\n",
    "test_data['pred'] = best_model.predict(test_data[[\"fw_similarity\", \"adp_dist\"] + prj_cols])"
   ]
  },
  {
   "cell_type": "code",
   "execution_count": null,
   "id": "9b9f1cbd",
   "metadata": {},
   "outputs": [],
   "source": []
  },
  {
   "cell_type": "markdown",
   "id": "48d1a156",
   "metadata": {},
   "source": [
    "Simple data augmentation improves our balanced accuracy dramatically!"
   ]
  },
  {
   "cell_type": "markdown",
   "id": "bb82ab85",
   "metadata": {},
   "source": [
    "# Create Example Prediction File for Leaderboard Submission"
   ]
  },
  {
   "cell_type": "markdown",
   "id": "0d12af71",
   "metadata": {},
   "source": [
    "### Load and Merge Leaderboard Data"
   ]
  },
  {
   "cell_type": "code",
   "execution_count": 29,
   "id": "a8bdc8d8",
   "metadata": {},
   "outputs": [],
   "source": [
    "#we need to first load and merge the leaderboard data to have the same format as the training set\n",
    "lb_data = pd.read_csv(\"./leaderboard_data.csv\")"
   ]
  },
  {
   "cell_type": "code",
   "execution_count": 30,
   "id": "4d0b97fd",
   "metadata": {},
   "outputs": [],
   "source": [
    "lb_data = (\n",
    "    lb_data.merge(\n",
    "        feature_weights.rename(columns=lambda x: \"pre_\" + x), \n",
    "        how=\"left\", \n",
    "        validate=\"m:1\",\n",
    "        copy=False,\n",
    "    )\n",
    "    .merge(\n",
    "        feature_weights.rename(columns=lambda x: \"post_\" + x),\n",
    "        how=\"left\",\n",
    "        validate=\"m:1\",\n",
    "        copy=False,\n",
    "    )\n",
    "    .merge(\n",
    "        morph_embeddings.rename(columns=lambda x: \"pre_\" + x),\n",
    "        how=\"left\",\n",
    "        validate=\"m:1\",\n",
    "        copy=False,\n",
    "    )\n",
    "    .merge(\n",
    "        morph_embeddings.rename(columns=lambda x: \"post_\" + x),\n",
    "        how=\"left\",\n",
    "        validate=\"m:1\",\n",
    "        copy=False,\n",
    "    )\n",
    ")"
   ]
  },
  {
   "cell_type": "code",
   "execution_count": 31,
   "id": "4074a460",
   "metadata": {},
   "outputs": [
    {
     "data": {
      "text/html": [
       "<div>\n",
       "<style scoped>\n",
       "    .dataframe tbody tr th:only-of-type {\n",
       "        vertical-align: middle;\n",
       "    }\n",
       "\n",
       "    .dataframe tbody tr th {\n",
       "        vertical-align: top;\n",
       "    }\n",
       "\n",
       "    .dataframe thead th {\n",
       "        text-align: right;\n",
       "    }\n",
       "</style>\n",
       "<table border=\"1\" class=\"dataframe\">\n",
       "  <thead>\n",
       "    <tr style=\"text-align: right;\">\n",
       "      <th></th>\n",
       "      <th>ID</th>\n",
       "      <th>axonal_coor_x</th>\n",
       "      <th>axonal_coor_y</th>\n",
       "      <th>axonal_coor_z</th>\n",
       "      <th>dendritic_coor_x</th>\n",
       "      <th>dendritic_coor_y</th>\n",
       "      <th>dendritic_coor_z</th>\n",
       "      <th>adp_dist</th>\n",
       "      <th>post_skeletal_distance_to_soma</th>\n",
       "      <th>pre_skeletal_distance_to_soma</th>\n",
       "      <th>...</th>\n",
       "      <th>pre_nucleus_z</th>\n",
       "      <th>post_nucleus_x</th>\n",
       "      <th>post_nucleus_y</th>\n",
       "      <th>post_nucleus_z</th>\n",
       "      <th>pre_nucleus_id</th>\n",
       "      <th>post_nucleus_id</th>\n",
       "      <th>pre_feature_weights</th>\n",
       "      <th>post_feature_weights</th>\n",
       "      <th>pre_morph_embeddings</th>\n",
       "      <th>post_morph_embeddings</th>\n",
       "    </tr>\n",
       "  </thead>\n",
       "  <tbody>\n",
       "    <tr>\n",
       "      <th>0</th>\n",
       "      <td>0</td>\n",
       "      <td>527499</td>\n",
       "      <td>544761</td>\n",
       "      <td>912282</td>\n",
       "      <td>529457</td>\n",
       "      <td>543459</td>\n",
       "      <td>916958</td>\n",
       "      <td>4783.37</td>\n",
       "      <td>239163.00</td>\n",
       "      <td>178032.0</td>\n",
       "      <td>...</td>\n",
       "      <td>861240</td>\n",
       "      <td>566528</td>\n",
       "      <td>777344</td>\n",
       "      <td>920800</td>\n",
       "      <td>582471</td>\n",
       "      <td>199477</td>\n",
       "      <td>[0.19683373, 0.19128098, 0.49339047, -0.029781...</td>\n",
       "      <td>[-0.03441501, 0.41964892, 0.23311342, 0.327173...</td>\n",
       "      <td>[0.5603107213973999, -0.3908874094486236, -0.1...</td>\n",
       "      <td>[1.132591724395752, -0.0064769592136144, -0.67...</td>\n",
       "    </tr>\n",
       "    <tr>\n",
       "      <th>1</th>\n",
       "      <td>1</td>\n",
       "      <td>1269890</td>\n",
       "      <td>471870</td>\n",
       "      <td>837816</td>\n",
       "      <td>1271230</td>\n",
       "      <td>469651</td>\n",
       "      <td>841045</td>\n",
       "      <td>4060.72</td>\n",
       "      <td>294573.00</td>\n",
       "      <td>1193910.0</td>\n",
       "      <td>...</td>\n",
       "      <td>861240</td>\n",
       "      <td>1196352</td>\n",
       "      <td>492736</td>\n",
       "      <td>919560</td>\n",
       "      <td>582471</td>\n",
       "      <td>518848</td>\n",
       "      <td>[0.19683373, 0.19128098, 0.49339047, -0.029781...</td>\n",
       "      <td>[-0.03917461, -0.1830603, -0.3704222, 0.183293...</td>\n",
       "      <td>[0.5603107213973999, -0.3908874094486236, -0.1...</td>\n",
       "      <td>[1.0723994970321655, -0.7540942430496216, 0.11...</td>\n",
       "    </tr>\n",
       "    <tr>\n",
       "      <th>2</th>\n",
       "      <td>2</td>\n",
       "      <td>666057</td>\n",
       "      <td>469875</td>\n",
       "      <td>925239</td>\n",
       "      <td>665387</td>\n",
       "      <td>467214</td>\n",
       "      <td>923430</td>\n",
       "      <td>2912.80</td>\n",
       "      <td>4102.75</td>\n",
       "      <td>387714.0</td>\n",
       "      <td>...</td>\n",
       "      <td>861240</td>\n",
       "      <td>669760</td>\n",
       "      <td>470336</td>\n",
       "      <td>913720</td>\n",
       "      <td>582471</td>\n",
       "      <td>256716</td>\n",
       "      <td>[0.19683373, 0.19128098, 0.49339047, -0.029781...</td>\n",
       "      <td>[-0.66653997, 0.5036552, 0.047438737, 0.181578...</td>\n",
       "      <td>[0.5603107213973999, -0.3908874094486236, -0.1...</td>\n",
       "      <td>[-0.0201839506626129, -0.2563340067863464, 0.1...</td>\n",
       "    </tr>\n",
       "    <tr>\n",
       "      <th>3</th>\n",
       "      <td>3</td>\n",
       "      <td>696633</td>\n",
       "      <td>453516</td>\n",
       "      <td>925806</td>\n",
       "      <td>696648</td>\n",
       "      <td>453417</td>\n",
       "      <td>921875</td>\n",
       "      <td>3272.83</td>\n",
       "      <td>31123.00</td>\n",
       "      <td>424714.0</td>\n",
       "      <td>...</td>\n",
       "      <td>861240</td>\n",
       "      <td>669760</td>\n",
       "      <td>470336</td>\n",
       "      <td>913720</td>\n",
       "      <td>582471</td>\n",
       "      <td>256716</td>\n",
       "      <td>[0.19683373, 0.19128098, 0.49339047, -0.029781...</td>\n",
       "      <td>[-0.66653997, 0.5036552, 0.047438737, 0.181578...</td>\n",
       "      <td>[0.5603107213973999, -0.3908874094486236, -0.1...</td>\n",
       "      <td>[-0.0201839506626129, -0.2563340067863464, 0.1...</td>\n",
       "    </tr>\n",
       "    <tr>\n",
       "      <th>4</th>\n",
       "      <td>4</td>\n",
       "      <td>567525</td>\n",
       "      <td>585921</td>\n",
       "      <td>888426</td>\n",
       "      <td>570714</td>\n",
       "      <td>583676</td>\n",
       "      <td>891264</td>\n",
       "      <td>4441.75</td>\n",
       "      <td>114201.00</td>\n",
       "      <td>250411.0</td>\n",
       "      <td>...</td>\n",
       "      <td>861240</td>\n",
       "      <td>672384</td>\n",
       "      <td>609728</td>\n",
       "      <td>932720</td>\n",
       "      <td>582471</td>\n",
       "      <td>260802</td>\n",
       "      <td>[0.19683373, 0.19128098, 0.49339047, -0.029781...</td>\n",
       "      <td>[-0.40308818, 0.20905656, 0.25083357, -0.19731...</td>\n",
       "      <td>[0.5603107213973999, -0.3908874094486236, -0.1...</td>\n",
       "      <td>[-0.0254557952284812, 0.7573301792144775, -0.2...</td>\n",
       "    </tr>\n",
       "  </tbody>\n",
       "</table>\n",
       "<p>5 rows × 33 columns</p>\n",
       "</div>"
      ],
      "text/plain": [
       "   ID  axonal_coor_x  axonal_coor_y  axonal_coor_z  dendritic_coor_x  \\\n",
       "0   0         527499         544761         912282            529457   \n",
       "1   1        1269890         471870         837816           1271230   \n",
       "2   2         666057         469875         925239            665387   \n",
       "3   3         696633         453516         925806            696648   \n",
       "4   4         567525         585921         888426            570714   \n",
       "\n",
       "   dendritic_coor_y  dendritic_coor_z  adp_dist  \\\n",
       "0            543459            916958   4783.37   \n",
       "1            469651            841045   4060.72   \n",
       "2            467214            923430   2912.80   \n",
       "3            453417            921875   3272.83   \n",
       "4            583676            891264   4441.75   \n",
       "\n",
       "   post_skeletal_distance_to_soma  pre_skeletal_distance_to_soma  ...  \\\n",
       "0                       239163.00                       178032.0  ...   \n",
       "1                       294573.00                      1193910.0  ...   \n",
       "2                         4102.75                       387714.0  ...   \n",
       "3                        31123.00                       424714.0  ...   \n",
       "4                       114201.00                       250411.0  ...   \n",
       "\n",
       "   pre_nucleus_z  post_nucleus_x  post_nucleus_y  post_nucleus_z  \\\n",
       "0         861240          566528          777344          920800   \n",
       "1         861240         1196352          492736          919560   \n",
       "2         861240          669760          470336          913720   \n",
       "3         861240          669760          470336          913720   \n",
       "4         861240          672384          609728          932720   \n",
       "\n",
       "   pre_nucleus_id  post_nucleus_id  \\\n",
       "0          582471           199477   \n",
       "1          582471           518848   \n",
       "2          582471           256716   \n",
       "3          582471           256716   \n",
       "4          582471           260802   \n",
       "\n",
       "                                 pre_feature_weights  \\\n",
       "0  [0.19683373, 0.19128098, 0.49339047, -0.029781...   \n",
       "1  [0.19683373, 0.19128098, 0.49339047, -0.029781...   \n",
       "2  [0.19683373, 0.19128098, 0.49339047, -0.029781...   \n",
       "3  [0.19683373, 0.19128098, 0.49339047, -0.029781...   \n",
       "4  [0.19683373, 0.19128098, 0.49339047, -0.029781...   \n",
       "\n",
       "                                post_feature_weights  \\\n",
       "0  [-0.03441501, 0.41964892, 0.23311342, 0.327173...   \n",
       "1  [-0.03917461, -0.1830603, -0.3704222, 0.183293...   \n",
       "2  [-0.66653997, 0.5036552, 0.047438737, 0.181578...   \n",
       "3  [-0.66653997, 0.5036552, 0.047438737, 0.181578...   \n",
       "4  [-0.40308818, 0.20905656, 0.25083357, -0.19731...   \n",
       "\n",
       "                                pre_morph_embeddings  \\\n",
       "0  [0.5603107213973999, -0.3908874094486236, -0.1...   \n",
       "1  [0.5603107213973999, -0.3908874094486236, -0.1...   \n",
       "2  [0.5603107213973999, -0.3908874094486236, -0.1...   \n",
       "3  [0.5603107213973999, -0.3908874094486236, -0.1...   \n",
       "4  [0.5603107213973999, -0.3908874094486236, -0.1...   \n",
       "\n",
       "                               post_morph_embeddings  \n",
       "0  [1.132591724395752, -0.0064769592136144, -0.67...  \n",
       "1  [1.0723994970321655, -0.7540942430496216, 0.11...  \n",
       "2  [-0.0201839506626129, -0.2563340067863464, 0.1...  \n",
       "3  [-0.0201839506626129, -0.2563340067863464, 0.1...  \n",
       "4  [-0.0254557952284812, 0.7573301792144775, -0.2...  \n",
       "\n",
       "[5 rows x 33 columns]"
      ]
     },
     "execution_count": 31,
     "metadata": {},
     "output_type": "execute_result"
    }
   ],
   "source": [
    "lb_data.shape\n",
    "lb_data.head()"
   ]
  },
  {
   "cell_type": "markdown",
   "id": "6b6d054a",
   "metadata": {},
   "source": [
    "### Example Prediction: Simple Logistic Regression"
   ]
  },
  {
   "cell_type": "markdown",
   "id": "cc2467bc",
   "metadata": {},
   "source": [
    "Now we fit a our logistic regression model on the full training data and use it to make predictions on the leaderboard data. But first, we need to add in our new engineered feature on neural tuning similarity.  "
   ]
  },
  {
   "cell_type": "code",
   "execution_count": 32,
   "id": "089e47f4",
   "metadata": {},
   "outputs": [],
   "source": [
    "# compute the cosine similarity between the pre- and post- feature weights\n",
    "lb_data[\"fw_similarity\"] = lb_data.apply(row_feature_similarity, axis=1)"
   ]
  },
  {
   "cell_type": "code",
   "execution_count": 33,
   "metadata": {},
   "outputs": [
    {
     "data": {
      "text/plain": [
       "['proj_grp_AL->AL',\n",
       " 'proj_grp_AL->RL',\n",
       " 'proj_grp_AL->V1',\n",
       " 'proj_grp_RL->AL',\n",
       " 'proj_grp_RL->RL',\n",
       " 'proj_grp_RL->V1',\n",
       " 'proj_grp_V1->AL',\n",
       " 'proj_grp_V1->RL',\n",
       " 'proj_grp_V1->V1']"
      ]
     },
     "execution_count": 33,
     "metadata": {},
     "output_type": "execute_result"
    }
   ],
   "source": [
    "# compute OHE projections\n",
    "# generate projection group as pre->post\n",
    "lb_data[\"projection_group\"] = (\n",
    "    lb_data[\"pre_brain_area\"].astype(str)\n",
    "    + \"->\"\n",
    "    + lb_data[\"post_brain_area\"].astype(str)\n",
    ")\n",
    "\n",
    "one_hot = pd.get_dummies(lb_data['projection_group'], prefix='proj_grp')\n",
    "lb_df = pd.concat([lb_data, one_hot], axis=1)\n",
    "prj_cols = [col for col in lb_df.columns if 'proj_grp' in col]\n",
    "prj_cols"
   ]
  },
  {
   "cell_type": "code",
   "execution_count": 34,
   "metadata": {},
   "outputs": [
    {
     "data": {
      "text/html": [
       "<div>\n",
       "<style scoped>\n",
       "    .dataframe tbody tr th:only-of-type {\n",
       "        vertical-align: middle;\n",
       "    }\n",
       "\n",
       "    .dataframe tbody tr th {\n",
       "        vertical-align: top;\n",
       "    }\n",
       "\n",
       "    .dataframe thead th {\n",
       "        text-align: right;\n",
       "    }\n",
       "</style>\n",
       "<table border=\"1\" class=\"dataframe\">\n",
       "  <thead>\n",
       "    <tr style=\"text-align: right;\">\n",
       "      <th></th>\n",
       "      <th>ID</th>\n",
       "      <th>axonal_coor_x</th>\n",
       "      <th>axonal_coor_y</th>\n",
       "      <th>axonal_coor_z</th>\n",
       "      <th>dendritic_coor_x</th>\n",
       "      <th>dendritic_coor_y</th>\n",
       "      <th>dendritic_coor_z</th>\n",
       "      <th>adp_dist</th>\n",
       "      <th>post_skeletal_distance_to_soma</th>\n",
       "      <th>pre_skeletal_distance_to_soma</th>\n",
       "      <th>...</th>\n",
       "      <th>fw_similarity</th>\n",
       "      <th>proj_grp_AL-&gt;AL</th>\n",
       "      <th>proj_grp_AL-&gt;RL</th>\n",
       "      <th>proj_grp_AL-&gt;V1</th>\n",
       "      <th>proj_grp_RL-&gt;AL</th>\n",
       "      <th>proj_grp_RL-&gt;RL</th>\n",
       "      <th>proj_grp_RL-&gt;V1</th>\n",
       "      <th>proj_grp_V1-&gt;AL</th>\n",
       "      <th>proj_grp_V1-&gt;RL</th>\n",
       "      <th>proj_grp_V1-&gt;V1</th>\n",
       "    </tr>\n",
       "  </thead>\n",
       "  <tbody>\n",
       "    <tr>\n",
       "      <th>0</th>\n",
       "      <td>0</td>\n",
       "      <td>527499</td>\n",
       "      <td>544761</td>\n",
       "      <td>912282</td>\n",
       "      <td>529457</td>\n",
       "      <td>543459</td>\n",
       "      <td>916958</td>\n",
       "      <td>4783.37</td>\n",
       "      <td>239163.00</td>\n",
       "      <td>178032.0</td>\n",
       "      <td>...</td>\n",
       "      <td>-0.022573</td>\n",
       "      <td>0</td>\n",
       "      <td>0</td>\n",
       "      <td>1</td>\n",
       "      <td>0</td>\n",
       "      <td>0</td>\n",
       "      <td>0</td>\n",
       "      <td>0</td>\n",
       "      <td>0</td>\n",
       "      <td>0</td>\n",
       "    </tr>\n",
       "    <tr>\n",
       "      <th>1</th>\n",
       "      <td>1</td>\n",
       "      <td>1269890</td>\n",
       "      <td>471870</td>\n",
       "      <td>837816</td>\n",
       "      <td>1271230</td>\n",
       "      <td>469651</td>\n",
       "      <td>841045</td>\n",
       "      <td>4060.72</td>\n",
       "      <td>294573.00</td>\n",
       "      <td>1193910.0</td>\n",
       "      <td>...</td>\n",
       "      <td>0.353360</td>\n",
       "      <td>0</td>\n",
       "      <td>1</td>\n",
       "      <td>0</td>\n",
       "      <td>0</td>\n",
       "      <td>0</td>\n",
       "      <td>0</td>\n",
       "      <td>0</td>\n",
       "      <td>0</td>\n",
       "      <td>0</td>\n",
       "    </tr>\n",
       "    <tr>\n",
       "      <th>2</th>\n",
       "      <td>2</td>\n",
       "      <td>666057</td>\n",
       "      <td>469875</td>\n",
       "      <td>925239</td>\n",
       "      <td>665387</td>\n",
       "      <td>467214</td>\n",
       "      <td>923430</td>\n",
       "      <td>2912.80</td>\n",
       "      <td>4102.75</td>\n",
       "      <td>387714.0</td>\n",
       "      <td>...</td>\n",
       "      <td>0.052183</td>\n",
       "      <td>0</td>\n",
       "      <td>0</td>\n",
       "      <td>1</td>\n",
       "      <td>0</td>\n",
       "      <td>0</td>\n",
       "      <td>0</td>\n",
       "      <td>0</td>\n",
       "      <td>0</td>\n",
       "      <td>0</td>\n",
       "    </tr>\n",
       "    <tr>\n",
       "      <th>3</th>\n",
       "      <td>3</td>\n",
       "      <td>696633</td>\n",
       "      <td>453516</td>\n",
       "      <td>925806</td>\n",
       "      <td>696648</td>\n",
       "      <td>453417</td>\n",
       "      <td>921875</td>\n",
       "      <td>3272.83</td>\n",
       "      <td>31123.00</td>\n",
       "      <td>424714.0</td>\n",
       "      <td>...</td>\n",
       "      <td>0.052183</td>\n",
       "      <td>0</td>\n",
       "      <td>0</td>\n",
       "      <td>1</td>\n",
       "      <td>0</td>\n",
       "      <td>0</td>\n",
       "      <td>0</td>\n",
       "      <td>0</td>\n",
       "      <td>0</td>\n",
       "      <td>0</td>\n",
       "    </tr>\n",
       "    <tr>\n",
       "      <th>4</th>\n",
       "      <td>4</td>\n",
       "      <td>567525</td>\n",
       "      <td>585921</td>\n",
       "      <td>888426</td>\n",
       "      <td>570714</td>\n",
       "      <td>583676</td>\n",
       "      <td>891264</td>\n",
       "      <td>4441.75</td>\n",
       "      <td>114201.00</td>\n",
       "      <td>250411.0</td>\n",
       "      <td>...</td>\n",
       "      <td>0.009847</td>\n",
       "      <td>0</td>\n",
       "      <td>0</td>\n",
       "      <td>1</td>\n",
       "      <td>0</td>\n",
       "      <td>0</td>\n",
       "      <td>0</td>\n",
       "      <td>0</td>\n",
       "      <td>0</td>\n",
       "      <td>0</td>\n",
       "    </tr>\n",
       "  </tbody>\n",
       "</table>\n",
       "<p>5 rows × 43 columns</p>\n",
       "</div>"
      ],
      "text/plain": [
       "   ID  axonal_coor_x  axonal_coor_y  axonal_coor_z  dendritic_coor_x  \\\n",
       "0   0         527499         544761         912282            529457   \n",
       "1   1        1269890         471870         837816           1271230   \n",
       "2   2         666057         469875         925239            665387   \n",
       "3   3         696633         453516         925806            696648   \n",
       "4   4         567525         585921         888426            570714   \n",
       "\n",
       "   dendritic_coor_y  dendritic_coor_z  adp_dist  \\\n",
       "0            543459            916958   4783.37   \n",
       "1            469651            841045   4060.72   \n",
       "2            467214            923430   2912.80   \n",
       "3            453417            921875   3272.83   \n",
       "4            583676            891264   4441.75   \n",
       "\n",
       "   post_skeletal_distance_to_soma  pre_skeletal_distance_to_soma  ...  \\\n",
       "0                       239163.00                       178032.0  ...   \n",
       "1                       294573.00                      1193910.0  ...   \n",
       "2                         4102.75                       387714.0  ...   \n",
       "3                        31123.00                       424714.0  ...   \n",
       "4                       114201.00                       250411.0  ...   \n",
       "\n",
       "   fw_similarity  proj_grp_AL->AL  proj_grp_AL->RL  proj_grp_AL->V1  \\\n",
       "0      -0.022573                0                0                1   \n",
       "1       0.353360                0                1                0   \n",
       "2       0.052183                0                0                1   \n",
       "3       0.052183                0                0                1   \n",
       "4       0.009847                0                0                1   \n",
       "\n",
       "   proj_grp_RL->AL  proj_grp_RL->RL  proj_grp_RL->V1  proj_grp_V1->AL  \\\n",
       "0                0                0                0                0   \n",
       "1                0                0                0                0   \n",
       "2                0                0                0                0   \n",
       "3                0                0                0                0   \n",
       "4                0                0                0                0   \n",
       "\n",
       "  proj_grp_V1->RL proj_grp_V1->V1  \n",
       "0               0               0  \n",
       "1               0               0  \n",
       "2               0               0  \n",
       "3               0               0  \n",
       "4               0               0  \n",
       "\n",
       "[5 rows x 43 columns]"
      ]
     },
     "execution_count": 34,
     "metadata": {},
     "output_type": "execute_result"
    }
   ],
   "source": [
    "lb_df = lb_df.drop([\"projection_group\"], axis=1)\n",
    "lb_df.head()"
   ]
  },
  {
   "cell_type": "code",
   "execution_count": 35,
   "id": "7a8e702c",
   "metadata": {},
   "outputs": [],
   "source": [
    "# oversample connected neuron pairs for full training data\n",
    "ros = RandomOverSampler(random_state=0)\n",
    "X_resampled, y_resampled = ros.fit_resample(\n",
    "    train_data[[\"fw_similarity\", \"adp_dist\"] + prj_cols], train_data[\"connected\"]\n",
    ")\n",
    "\n",
    "# fit model\n",
    "pipe.fit(X_resampled, y_resampled)\n",
    "\n",
    "# predict on leaderboard data\n",
    "lb_df[\"pred\"] = pipe.predict_proba(lb_df[[\"fw_similarity\", \"adp_dist\"] + prj_cols])[:, 1]\n",
    "\n",
    "#create a boolean prediction solution\n",
    "lb_df[\"connected\"] = lb_df[\"pred\"] > .5"
   ]
  },
  {
   "cell_type": "markdown",
   "id": "69c96a3f",
   "metadata": {},
   "source": [
    "### Example of Creating a Leaderboard Submission File"
   ]
  },
  {
   "cell_type": "code",
   "execution_count": 36,
   "id": "771bb7d2",
   "metadata": {},
   "outputs": [],
   "source": [
    "#columns should be ID, connected\n",
    "submission_data = lb_df.filter(['ID','connected'])"
   ]
  },
  {
   "cell_type": "code",
   "execution_count": 37,
   "metadata": {},
   "outputs": [
    {
     "data": {
      "text/html": [
       "<div>\n",
       "<style scoped>\n",
       "    .dataframe tbody tr th:only-of-type {\n",
       "        vertical-align: middle;\n",
       "    }\n",
       "\n",
       "    .dataframe tbody tr th {\n",
       "        vertical-align: top;\n",
       "    }\n",
       "\n",
       "    .dataframe thead th {\n",
       "        text-align: right;\n",
       "    }\n",
       "</style>\n",
       "<table border=\"1\" class=\"dataframe\">\n",
       "  <thead>\n",
       "    <tr style=\"text-align: right;\">\n",
       "      <th></th>\n",
       "      <th>ID</th>\n",
       "      <th>connected</th>\n",
       "    </tr>\n",
       "  </thead>\n",
       "  <tbody>\n",
       "    <tr>\n",
       "      <th>0</th>\n",
       "      <td>0</td>\n",
       "      <td>False</td>\n",
       "    </tr>\n",
       "    <tr>\n",
       "      <th>1</th>\n",
       "      <td>1</td>\n",
       "      <td>False</td>\n",
       "    </tr>\n",
       "    <tr>\n",
       "      <th>2</th>\n",
       "      <td>2</td>\n",
       "      <td>False</td>\n",
       "    </tr>\n",
       "    <tr>\n",
       "      <th>3</th>\n",
       "      <td>3</td>\n",
       "      <td>False</td>\n",
       "    </tr>\n",
       "    <tr>\n",
       "      <th>4</th>\n",
       "      <td>4</td>\n",
       "      <td>False</td>\n",
       "    </tr>\n",
       "    <tr>\n",
       "      <th>...</th>\n",
       "      <td>...</td>\n",
       "      <td>...</td>\n",
       "    </tr>\n",
       "    <tr>\n",
       "      <th>42588</th>\n",
       "      <td>42588</td>\n",
       "      <td>True</td>\n",
       "    </tr>\n",
       "    <tr>\n",
       "      <th>42589</th>\n",
       "      <td>42589</td>\n",
       "      <td>False</td>\n",
       "    </tr>\n",
       "    <tr>\n",
       "      <th>42590</th>\n",
       "      <td>42590</td>\n",
       "      <td>False</td>\n",
       "    </tr>\n",
       "    <tr>\n",
       "      <th>42591</th>\n",
       "      <td>42591</td>\n",
       "      <td>False</td>\n",
       "    </tr>\n",
       "    <tr>\n",
       "      <th>42592</th>\n",
       "      <td>42592</td>\n",
       "      <td>False</td>\n",
       "    </tr>\n",
       "  </tbody>\n",
       "</table>\n",
       "<p>42593 rows × 2 columns</p>\n",
       "</div>"
      ],
      "text/plain": [
       "          ID  connected\n",
       "0          0      False\n",
       "1          1      False\n",
       "2          2      False\n",
       "3          3      False\n",
       "4          4      False\n",
       "...      ...        ...\n",
       "42588  42588       True\n",
       "42589  42589      False\n",
       "42590  42590      False\n",
       "42591  42591      False\n",
       "42592  42592      False\n",
       "\n",
       "[42593 rows x 2 columns]"
      ]
     },
     "execution_count": 37,
     "metadata": {},
     "output_type": "execute_result"
    }
   ],
   "source": [
    "submission_data"
   ]
  },
  {
   "cell_type": "code",
   "execution_count": 38,
   "id": "9ad284b2",
   "metadata": {},
   "outputs": [],
   "source": [
    "#writing csv files\n",
    "# submission_data.to_csv('example_submission_data.csv',index=False)"
   ]
  },
  {
   "cell_type": "code",
   "execution_count": 39,
   "id": "424bb6e0",
   "metadata": {},
   "outputs": [],
   "source": [
    "#!kaggle competitions submit -c neuron-synapse-prediction -f submission.csv -m \"Message\""
   ]
  }
 ],
 "metadata": {
  "kernelspec": {
   "display_name": "Python 3 (ipykernel)",
   "language": "python",
   "name": "python3"
  },
  "language_info": {
   "codemirror_mode": {
    "name": "ipython",
    "version": 3
   },
   "file_extension": ".py",
   "mimetype": "text/x-python",
   "name": "python",
   "nbconvert_exporter": "python",
   "pygments_lexer": "ipython3",
   "version": "3.8.13"
  }
 },
 "nbformat": 4,
 "nbformat_minor": 5
}
