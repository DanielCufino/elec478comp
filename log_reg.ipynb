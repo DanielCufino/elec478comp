{
 "cells": [
  {
   "cell_type": "code",
   "execution_count": 1,
   "metadata": {},
   "outputs": [],
   "source": [
    "import pandas as pd\n",
    "import numpy as np\n",
    "import matplotlib.pyplot as plt\n",
    "import seaborn as sns\n",
    "from tqdm import tqdm\n",
    "from sklearn.metrics.pairwise import cosine_similarity\n",
    "#load in training data on each potential synapse\n",
    "data = pd.read_csv(\"./train_data.csv\")\n",
    "\n",
    "#load in additional features for each neuron\n",
    "feature_weights = pd.read_csv(\"./feature_weights.csv\")\n",
    "morph_embeddings = pd.read_csv(\"./morph_embeddings.csv\")"
   ]
  },
  {
   "cell_type": "code",
   "execution_count": 2,
   "metadata": {},
   "outputs": [],
   "source": [
    "# join all feature_weight_i columns into a single np.array column\n",
    "feature_weights[\"feature_weights\"] = (\n",
    "    feature_weights.filter(regex=\"feature_weight_\")\n",
    "    .sort_index(axis=1)\n",
    "    .apply(lambda x: np.array(x), axis=1)\n",
    ")\n",
    "# delete the feature_weight_i columns\n",
    "feature_weights.drop(\n",
    "    feature_weights.filter(regex=\"feature_weight_\").columns, axis=1, inplace=True\n",
    ")\n",
    "\n",
    "# join all morph_embed_i columns into a single np.array column\n",
    "morph_embeddings[\"morph_embeddings\"] = (\n",
    "    morph_embeddings.filter(regex=\"morph_emb_\")\n",
    "    .sort_index(axis=1)\n",
    "    .apply(lambda x: np.array(x), axis=1)\n",
    ")\n",
    "# delete the morph_embed_i columns\n",
    "morph_embeddings.drop(\n",
    "    morph_embeddings.filter(regex=\"morph_emb_\").columns, axis=1, inplace=True\n",
    ")"
   ]
  },
  {
   "cell_type": "code",
   "execution_count": 3,
   "metadata": {},
   "outputs": [],
   "source": [
    "data = (\n",
    "    data.merge(\n",
    "        feature_weights.rename(columns=lambda x: \"pre_\" + x), \n",
    "        how=\"left\", \n",
    "        validate=\"m:1\",\n",
    "        copy=False,\n",
    "    )\n",
    "    .merge(\n",
    "        feature_weights.rename(columns=lambda x: \"post_\" + x),\n",
    "        how=\"left\",\n",
    "        validate=\"m:1\",\n",
    "        copy=False,\n",
    "    )\n",
    "    .merge(\n",
    "        morph_embeddings.rename(columns=lambda x: \"pre_\" + x),\n",
    "        how=\"left\",\n",
    "        validate=\"m:1\",\n",
    "        copy=False,\n",
    "    )\n",
    "    .merge(\n",
    "        morph_embeddings.rename(columns=lambda x: \"post_\" + x),\n",
    "        how=\"left\",\n",
    "        validate=\"m:1\",\n",
    "        copy=False,\n",
    "    )\n",
    ")"
   ]
  },
  {
   "cell_type": "code",
   "execution_count": 5,
   "metadata": {},
   "outputs": [],
   "source": [
    "#cosine similarity function\n",
    "def row_feature_similarity(row):\n",
    "    pre = row[\"pre_feature_weights\"]\n",
    "    post = row[\"post_feature_weights\"]\n",
    "    return (pre * post).sum() / (np.linalg.norm(pre) * np.linalg.norm(post))"
   ]
  },
  {
   "cell_type": "code",
   "execution_count": 6,
   "metadata": {},
   "outputs": [],
   "source": [
    "# compute the cosine similarity between the pre- and post- feature weights\n",
    "data[\"fw_similarity\"] = data.apply(row_feature_similarity, axis=1)"
   ]
  },
  {
   "cell_type": "code",
   "execution_count": 7,
   "metadata": {},
   "outputs": [],
   "source": [
    "# generate projection group as pre->post\n",
    "data[\"projection_group\"] = (\n",
    "    data[\"pre_brain_area\"].astype(str)\n",
    "    + \"->\"\n",
    "    + data[\"post_brain_area\"].astype(str)\n",
    ")"
   ]
  },
  {
   "cell_type": "code",
   "execution_count": 45,
   "metadata": {},
   "outputs": [
    {
     "data": {
      "text/plain": [
       "Index(['ID', 'axonal_coor_x', 'axonal_coor_y', 'axonal_coor_z',\n",
       "       'dendritic_coor_x', 'dendritic_coor_y', 'dendritic_coor_z', 'adp_dist',\n",
       "       'post_skeletal_distance_to_soma', 'pre_skeletal_distance_to_soma',\n",
       "       'pre_oracle', 'pre_test_score', 'pre_rf_x', 'pre_rf_y', 'post_oracle',\n",
       "       'post_test_score', 'post_rf_x', 'post_rf_y', 'compartment',\n",
       "       'pre_brain_area', 'post_brain_area', 'pre_nucleus_x', 'pre_nucleus_y',\n",
       "       'pre_nucleus_z', 'post_nucleus_x', 'post_nucleus_y', 'post_nucleus_z',\n",
       "       'pre_nucleus_id', 'post_nucleus_id', 'connected', 'pre_feature_weights',\n",
       "       'post_feature_weights', 'pre_morph_embeddings', 'post_morph_embeddings',\n",
       "       'fw_similarity', 'projection_group'],\n",
       "      dtype='object')"
      ]
     },
     "execution_count": 45,
     "metadata": {},
     "output_type": "execute_result"
    }
   ],
   "source": [
    "data.columns"
   ]
  },
  {
   "cell_type": "code",
   "execution_count": 53,
   "metadata": {},
   "outputs": [],
   "source": [
    "data['fw_post_interaction'] = data['fw_similarity'] * data['post_test_score']\n",
    "data['fw_pre_interaction'] = data['fw_similarity'] * data['pre_test_score']"
   ]
  },
  {
   "cell_type": "code",
   "execution_count": 60,
   "metadata": {},
   "outputs": [
    {
     "name": "stdout",
     "output_type": "stream",
     "text": [
      "Fitting 5 folds for each of 40 candidates, totalling 200 fits\n",
      "[CV] END model__C=1e-05, model__penalty=l1, model__solver=liblinear; total time=  10.3s\n",
      "[CV] END model__C=1e-05, model__penalty=l2, model__solver=liblinear; total time=   6.4s\n",
      "[CV] END model__C=1e-05, model__penalty=l1, model__solver=liblinear; total time=  17.0s\n",
      "[CV] END model__C=1e-05, model__penalty=l1, model__solver=saga; total time=  16.8s\n",
      "[CV] END model__C=1e-05, model__penalty=l1, model__solver=liblinear; total time=  17.2s\n",
      "[CV] END model__C=1e-05, model__penalty=l1, model__solver=saga; total time=  17.2s\n",
      "[CV] END model__C=1e-05, model__penalty=l1, model__solver=saga; total time=  17.4s\n",
      "[CV] END model__C=1e-05, model__penalty=l1, model__solver=liblinear; total time=  17.6s\n",
      "[CV] END model__C=1e-05, model__penalty=l1, model__solver=liblinear; total time=  17.8s\n",
      "[CV] END model__C=1e-05, model__penalty=l1, model__solver=saga; total time=  17.9s\n",
      "[CV] END model__C=1e-05, model__penalty=l1, model__solver=saga; total time=  19.2s\n",
      "[CV] END model__C=1e-05, model__penalty=l2, model__solver=liblinear; total time=   3.5s\n",
      "[CV] END model__C=1e-05, model__penalty=l2, model__solver=liblinear; total time=   5.9s\n",
      "[CV] END model__C=1e-05, model__penalty=l2, model__solver=liblinear; total time=   6.4s\n",
      "[CV] END model__C=1e-05, model__penalty=l2, model__solver=liblinear; total time=   6.5s\n",
      "[CV] END model__C=0.0001, model__penalty=l1, model__solver=liblinear; total time=   4.6s\n",
      "[CV] END model__C=0.0001, model__penalty=l1, model__solver=liblinear; total time=   4.3s\n",
      "[CV] END model__C=0.0001, model__penalty=l1, model__solver=liblinear; total time=   2.1s\n",
      "[CV] END model__C=0.0001, model__penalty=l1, model__solver=liblinear; total time=   1.8s\n",
      "[CV] END model__C=0.0001, model__penalty=l1, model__solver=liblinear; total time=   1.7s\n",
      "[CV] END model__C=1e-05, model__penalty=l2, model__solver=saga; total time=   7.9s\n",
      "[CV] END model__C=1e-05, model__penalty=l2, model__solver=saga; total time=   8.2s\n",
      "[CV] END model__C=1e-05, model__penalty=l2, model__solver=saga; total time=   8.2s\n",
      "[CV] END model__C=1e-05, model__penalty=l2, model__solver=saga; total time=   8.4s\n",
      "[CV] END model__C=1e-05, model__penalty=l2, model__solver=saga; total time=   8.0s\n",
      "[CV] END model__C=0.0001, model__penalty=l1, model__solver=saga; total time=   3.2s\n",
      "[CV] END model__C=0.0001, model__penalty=l1, model__solver=saga; total time=   4.2s\n",
      "[CV] END model__C=0.0001, model__penalty=l1, model__solver=saga; total time=   5.9s\n",
      "[CV] END model__C=0.0001, model__penalty=l2, model__solver=liblinear; total time=   5.7s\n",
      "[CV] END model__C=0.0001, model__penalty=l2, model__solver=liblinear; total time=   5.5s\n",
      "[CV] END model__C=0.0001, model__penalty=l2, model__solver=liblinear; total time=   5.8s\n",
      "[CV] END model__C=0.0001, model__penalty=l2, model__solver=liblinear; total time=   6.1s\n",
      "[CV] END model__C=0.0001, model__penalty=l2, model__solver=liblinear; total time=   6.0s\n",
      "[CV] END model__C=0.0001, model__penalty=l1, model__solver=saga; total time=   7.6s\n",
      "[CV] END model__C=0.0001, model__penalty=l1, model__solver=saga; total time=   8.1s\n",
      "[CV] END model__C=0.0005, model__penalty=l1, model__solver=liblinear; total time=   2.0s\n",
      "[CV] END model__C=0.0001, model__penalty=l2, model__solver=saga; total time=   6.5s\n",
      "[CV] END model__C=0.0005, model__penalty=l1, model__solver=liblinear; total time=   1.9s\n",
      "[CV] END model__C=0.0005, model__penalty=l1, model__solver=liblinear; total time=   2.2s\n",
      "[CV] END model__C=0.0001, model__penalty=l2, model__solver=saga; total time=   6.0s\n",
      "[CV] END model__C=0.0001, model__penalty=l2, model__solver=saga; total time=   3.9s\n",
      "[CV] END model__C=0.0005, model__penalty=l1, model__solver=liblinear; total time=   1.9s\n",
      "[CV] END model__C=0.0001, model__penalty=l2, model__solver=saga; total time=   3.8s\n",
      "[CV] END model__C=0.0001, model__penalty=l2, model__solver=saga; total time=   3.9s\n",
      "[CV] END model__C=0.0005, model__penalty=l1, model__solver=liblinear; total time=   2.0s\n",
      "[CV] END model__C=0.0005, model__penalty=l1, model__solver=saga; total time=   3.9s\n",
      "[CV] END model__C=0.0005, model__penalty=l2, model__solver=liblinear; total time=   3.2s\n",
      "[CV] END model__C=0.0005, model__penalty=l2, model__solver=liblinear; total time=   3.1s\n",
      "[CV] END model__C=0.0005, model__penalty=l2, model__solver=liblinear; total time=   3.1s\n",
      "[CV] END model__C=0.0005, model__penalty=l2, model__solver=liblinear; total time=   3.4s\n",
      "[CV] END model__C=0.0005, model__penalty=l2, model__solver=liblinear; total time=   3.8s\n",
      "[CV] END model__C=0.0005, model__penalty=l1, model__solver=saga; total time=   5.2s\n",
      "[CV] END model__C=0.0005, model__penalty=l1, model__solver=saga; total time=   5.4s\n",
      "[CV] END model__C=0.0005, model__penalty=l1, model__solver=saga; total time=   5.5s\n",
      "[CV] END model__C=0.0005, model__penalty=l1, model__solver=saga; total time=   4.8s\n",
      "[CV] END model__C=0.0005, model__penalty=l2, model__solver=saga; total time=   3.3s\n",
      "[CV] END model__C=0.001, model__penalty=l1, model__solver=liblinear; total time=   5.1s\n",
      "[CV] END model__C=0.001, model__penalty=l1, model__solver=liblinear; total time=   5.8s\n",
      "[CV] END model__C=0.001, model__penalty=l1, model__solver=liblinear; total time=   5.9s\n",
      "[CV] END model__C=0.001, model__penalty=l1, model__solver=liblinear; total time=   6.0s\n",
      "[CV] END model__C=0.001, model__penalty=l1, model__solver=liblinear; total time=   6.1s\n",
      "[CV] END model__C=0.0005, model__penalty=l2, model__solver=saga; total time=   7.8s\n",
      "[CV] END model__C=0.0005, model__penalty=l2, model__solver=saga; total time=   7.1s\n",
      "[CV] END model__C=0.0005, model__penalty=l2, model__solver=saga; total time=   7.6s\n",
      "[CV] END model__C=0.0005, model__penalty=l2, model__solver=saga; total time=   7.7s\n",
      "[CV] END model__C=0.001, model__penalty=l1, model__solver=saga; total time=   6.6s\n",
      "[CV] END model__C=0.001, model__penalty=l2, model__solver=liblinear; total time=   2.1s\n",
      "[CV] END model__C=0.001, model__penalty=l2, model__solver=liblinear; total time=   2.2s\n",
      "[CV] END model__C=0.001, model__penalty=l2, model__solver=liblinear; total time=   2.5s\n",
      "[CV] END model__C=0.001, model__penalty=l2, model__solver=liblinear; total time=   1.9s\n",
      "[CV] END model__C=0.001, model__penalty=l2, model__solver=liblinear; total time=   2.0s\n",
      "[CV] END model__C=0.001, model__penalty=l1, model__solver=saga; total time=   3.9s\n",
      "[CV] END model__C=0.001, model__penalty=l1, model__solver=saga; total time=   4.3s\n",
      "[CV] END model__C=0.001, model__penalty=l1, model__solver=saga; total time=   4.5s\n",
      "[CV] END model__C=0.001, model__penalty=l1, model__solver=saga; total time=   4.3s\n",
      "[CV] END model__C=0.001, model__penalty=l2, model__solver=saga; total time=   5.4s\n",
      "[CV] END model__C=0.01, model__penalty=l1, model__solver=liblinear; total time=   4.8s\n",
      "[CV] END model__C=0.01, model__penalty=l1, model__solver=liblinear; total time=   3.6s\n",
      "[CV] END model__C=0.01, model__penalty=l1, model__solver=liblinear; total time=   4.7s\n",
      "[CV] END model__C=0.01, model__penalty=l1, model__solver=liblinear; total time=   4.1s\n",
      "[CV] END model__C=0.001, model__penalty=l2, model__solver=saga; total time=   5.9s\n",
      "[CV] END model__C=0.01, model__penalty=l1, model__solver=liblinear; total time=   5.1s\n",
      "[CV] END model__C=0.001, model__penalty=l2, model__solver=saga; total time=   6.1s\n",
      "[CV] END model__C=0.001, model__penalty=l2, model__solver=saga; total time=   6.0s\n",
      "[CV] END model__C=0.001, model__penalty=l2, model__solver=saga; total time=   6.4s\n",
      "[CV] END model__C=0.01, model__penalty=l1, model__solver=saga; total time=   3.8s\n",
      "[CV] END model__C=0.01, model__penalty=l2, model__solver=liblinear; total time=   5.1s\n",
      "[CV] END model__C=0.01, model__penalty=l2, model__solver=liblinear; total time=   5.7s\n",
      "[CV] END model__C=0.01, model__penalty=l2, model__solver=liblinear; total time=   6.1s\n",
      "[CV] END model__C=0.01, model__penalty=l2, model__solver=liblinear; total time=   6.2s\n",
      "[CV] END model__C=0.01, model__penalty=l2, model__solver=liblinear; total time=   5.5s\n",
      "[CV] END model__C=0.01, model__penalty=l1, model__solver=saga; total time=   7.4s\n",
      "[CV] END model__C=0.01, model__penalty=l1, model__solver=saga; total time=   7.3s\n",
      "[CV] END model__C=0.01, model__penalty=l1, model__solver=saga; total time=   7.5s\n",
      "[CV] END model__C=0.01, model__penalty=l1, model__solver=saga; total time=   7.4s\n",
      "[CV] END model__C=0.01, model__penalty=l2, model__solver=saga; total time=   5.0s\n",
      "[CV] END model__C=0.01, model__penalty=l2, model__solver=saga; total time=   4.1s\n",
      "[CV] END model__C=0.01, model__penalty=l2, model__solver=saga; total time=   4.3s\n",
      "[CV] END model__C=0.01, model__penalty=l2, model__solver=saga; total time=   4.9s\n",
      "[CV] END model__C=0.01, model__penalty=l2, model__solver=saga; total time=   5.9s\n",
      "[CV] END model__C=0.1, model__penalty=l1, model__solver=saga; total time=   6.0s\n",
      "[CV] END model__C=0.1, model__penalty=l1, model__solver=liblinear; total time=   7.6s\n",
      "[CV] END model__C=0.1, model__penalty=l1, model__solver=liblinear; total time=   8.0s\n",
      "[CV] END model__C=0.1, model__penalty=l1, model__solver=liblinear; total time=   8.1s\n",
      "[CV] END model__C=0.1, model__penalty=l1, model__solver=liblinear; total time=   8.2s\n",
      "[CV] END model__C=0.1, model__penalty=l1, model__solver=liblinear; total time=   8.8s\n",
      "[CV] END model__C=0.1, model__penalty=l1, model__solver=saga; total time=   5.3s\n",
      "[CV] END model__C=0.1, model__penalty=l2, model__solver=liblinear; total time=   2.3s\n",
      "[CV] END model__C=0.1, model__penalty=l1, model__solver=saga; total time=   6.8s\n",
      "[CV] END model__C=0.1, model__penalty=l2, model__solver=liblinear; total time=   2.1s\n",
      "[CV] END model__C=0.1, model__penalty=l2, model__solver=liblinear; total time=   2.4s\n",
      "[CV] END model__C=0.1, model__penalty=l2, model__solver=liblinear; total time=   2.1s\n",
      "[CV] END model__C=0.1, model__penalty=l2, model__solver=liblinear; total time=   2.1s\n",
      "[CV] END model__C=0.1, model__penalty=l1, model__solver=saga; total time=   5.9s\n",
      "[CV] END model__C=0.1, model__penalty=l1, model__solver=saga; total time=   8.8s\n",
      "[CV] END model__C=0.1, model__penalty=l2, model__solver=saga; total time=   8.6s\n",
      "[CV] END model__C=0.1, model__penalty=l2, model__solver=saga; total time=  10.3s\n",
      "[CV] END model__C=0.1, model__penalty=l2, model__solver=saga; total time=  10.3s\n",
      "[CV] END model__C=0.1, model__penalty=l2, model__solver=saga; total time=  10.9s\n",
      "[CV] END model__C=0.1, model__penalty=l2, model__solver=saga; total time=  10.5s\n",
      "[CV] END model__C=1, model__penalty=l1, model__solver=liblinear; total time=  11.5s\n",
      "[CV] END model__C=1, model__penalty=l1, model__solver=liblinear; total time=  11.5s\n",
      "[CV] END model__C=1, model__penalty=l2, model__solver=liblinear; total time=   2.3s\n",
      "[CV] END model__C=1, model__penalty=l1, model__solver=liblinear; total time=  13.3s\n",
      "[CV] END model__C=1, model__penalty=l2, model__solver=liblinear; total time=   2.3s\n",
      "[CV] END model__C=1, model__penalty=l2, model__solver=liblinear; total time=   2.0s\n",
      "[CV] END model__C=1, model__penalty=l2, model__solver=liblinear; total time=   2.1s\n",
      "[CV] END model__C=1, model__penalty=l2, model__solver=liblinear; total time=   2.0s\n",
      "[CV] END model__C=1, model__penalty=l1, model__solver=liblinear; total time=  17.3s\n",
      "[CV] END model__C=1, model__penalty=l1, model__solver=liblinear; total time=  21.5s\n",
      "[CV] END ..model__C=1, model__penalty=l1, model__solver=saga; total time=  24.1s\n",
      "[CV] END model__C=2, model__penalty=l1, model__solver=liblinear; total time=   2.5s\n",
      "[CV] END ..model__C=1, model__penalty=l2, model__solver=saga; total time=  19.8s\n",
      "[CV] END ..model__C=1, model__penalty=l1, model__solver=saga; total time=  26.0s\n",
      "[CV] END ..model__C=1, model__penalty=l2, model__solver=saga; total time=  19.3s\n",
      "[CV] END ..model__C=1, model__penalty=l2, model__solver=saga; total time=  19.4s\n",
      "[CV] END ..model__C=1, model__penalty=l1, model__solver=saga; total time=  27.4s\n",
      "[CV] END model__C=2, model__penalty=l1, model__solver=liblinear; total time=   2.6s\n",
      "[CV] END ..model__C=1, model__penalty=l2, model__solver=saga; total time=  21.1s\n",
      "[CV] END model__C=2, model__penalty=l1, model__solver=liblinear; total time=   2.6s\n",
      "[CV] END model__C=2, model__penalty=l1, model__solver=liblinear; total time=   2.4s\n",
      "[CV] END model__C=2, model__penalty=l2, model__solver=liblinear; total time=   2.1s\n",
      "[CV] END ..model__C=1, model__penalty=l2, model__solver=saga; total time=  19.9s\n",
      "[CV] END model__C=2, model__penalty=l2, model__solver=liblinear; total time=   1.9s\n",
      "[CV] END model__C=2, model__penalty=l2, model__solver=liblinear; total time=   2.2s\n",
      "[CV] END model__C=2, model__penalty=l2, model__solver=liblinear; total time=   1.9s\n",
      "[CV] END model__C=2, model__penalty=l2, model__solver=liblinear; total time=   1.9s\n",
      "[CV] END ..model__C=1, model__penalty=l1, model__solver=saga; total time=  39.2s\n",
      "[CV] END model__C=2, model__penalty=l1, model__solver=liblinear; total time=  16.0s\n"
     ]
    },
    {
     "name": "stderr",
     "output_type": "stream",
     "text": [
      "/Users/danielcufino/miniforge3/envs/torch/lib/python3.8/site-packages/sklearn/linear_model/_sag.py:352: ConvergenceWarning: The max_iter was reached which means the coef_ did not converge\n",
      "  warnings.warn(\n"
     ]
    },
    {
     "name": "stdout",
     "output_type": "stream",
     "text": [
      "[CV] END ..model__C=1, model__penalty=l1, model__solver=saga; total time=  43.4s\n",
      "[CV] END ..model__C=2, model__penalty=l2, model__solver=saga; total time=  24.8s\n",
      "[CV] END ..model__C=2, model__penalty=l2, model__solver=saga; total time=  25.7s\n",
      "[CV] END model__C=5, model__penalty=l1, model__solver=liblinear; total time=   2.1s\n",
      "[CV] END model__C=5, model__penalty=l1, model__solver=liblinear; total time=   2.4s\n",
      "[CV] END ..model__C=2, model__penalty=l2, model__solver=saga; total time=  24.6s\n",
      "[CV] END ..model__C=2, model__penalty=l2, model__solver=saga; total time=  24.6s\n",
      "[CV] END model__C=5, model__penalty=l1, model__solver=liblinear; total time=   2.1s\n",
      "[CV] END model__C=5, model__penalty=l1, model__solver=liblinear; total time=   2.2s\n",
      "[CV] END model__C=5, model__penalty=l1, model__solver=liblinear; total time=   5.1s\n",
      "[CV] END ..model__C=2, model__penalty=l2, model__solver=saga; total time=  25.4s\n"
     ]
    },
    {
     "name": "stderr",
     "output_type": "stream",
     "text": [
      "/Users/danielcufino/miniforge3/envs/torch/lib/python3.8/site-packages/sklearn/linear_model/_sag.py:352: ConvergenceWarning: The max_iter was reached which means the coef_ did not converge\n",
      "  warnings.warn(\n"
     ]
    },
    {
     "name": "stdout",
     "output_type": "stream",
     "text": [
      "[CV] END ..model__C=2, model__penalty=l1, model__solver=saga; total time=  42.5s\n"
     ]
    },
    {
     "name": "stderr",
     "output_type": "stream",
     "text": [
      "/Users/danielcufino/miniforge3/envs/torch/lib/python3.8/site-packages/sklearn/linear_model/_sag.py:352: ConvergenceWarning: The max_iter was reached which means the coef_ did not converge\n",
      "  warnings.warn(\n",
      "/Users/danielcufino/miniforge3/envs/torch/lib/python3.8/site-packages/sklearn/linear_model/_sag.py:352: ConvergenceWarning: The max_iter was reached which means the coef_ did not converge\n",
      "  warnings.warn(\n"
     ]
    },
    {
     "name": "stdout",
     "output_type": "stream",
     "text": [
      "[CV] END ..model__C=2, model__penalty=l1, model__solver=saga; total time=  41.7s\n",
      "[CV] END ..model__C=2, model__penalty=l1, model__solver=saga; total time=  42.7s\n"
     ]
    },
    {
     "name": "stderr",
     "output_type": "stream",
     "text": [
      "/Users/danielcufino/miniforge3/envs/torch/lib/python3.8/site-packages/sklearn/linear_model/_sag.py:352: ConvergenceWarning: The max_iter was reached which means the coef_ did not converge\n",
      "  warnings.warn(\n",
      "/Users/danielcufino/miniforge3/envs/torch/lib/python3.8/site-packages/sklearn/linear_model/_sag.py:352: ConvergenceWarning: The max_iter was reached which means the coef_ did not converge\n",
      "  warnings.warn(\n"
     ]
    },
    {
     "name": "stdout",
     "output_type": "stream",
     "text": [
      "[CV] END ..model__C=2, model__penalty=l1, model__solver=saga; total time=  42.0s\n",
      "[CV] END ..model__C=2, model__penalty=l1, model__solver=saga; total time=  42.8s\n",
      "[CV] END model__C=5, model__penalty=l2, model__solver=liblinear; total time=   2.0s\n",
      "[CV] END model__C=5, model__penalty=l2, model__solver=liblinear; total time=   2.0s\n",
      "[CV] END model__C=5, model__penalty=l2, model__solver=liblinear; total time=   2.5s\n",
      "[CV] END model__C=5, model__penalty=l2, model__solver=liblinear; total time=   2.1s\n",
      "[CV] END model__C=5, model__penalty=l2, model__solver=liblinear; total time=   2.1s\n",
      "[CV] END ..model__C=5, model__penalty=l2, model__solver=saga; total time=  19.6s\n",
      "[CV] END ..model__C=5, model__penalty=l2, model__solver=saga; total time=  20.8s\n",
      "[CV] END ..model__C=5, model__penalty=l2, model__solver=saga; total time=  19.6s\n",
      "[CV] END ..model__C=5, model__penalty=l2, model__solver=saga; total time=  20.5s\n",
      "[CV] END ..model__C=5, model__penalty=l2, model__solver=saga; total time=  21.4s\n",
      "[CV] END model__C=10, model__penalty=l1, model__solver=liblinear; total time=   2.3s\n",
      "[CV] END model__C=10, model__penalty=l1, model__solver=liblinear; total time=   2.3s\n",
      "[CV] END model__C=10, model__penalty=l1, model__solver=liblinear; total time=   2.2s\n",
      "[CV] END model__C=10, model__penalty=l1, model__solver=liblinear; total time=   2.3s\n",
      "[CV] END model__C=10, model__penalty=l1, model__solver=liblinear; total time=   2.2s\n"
     ]
    },
    {
     "name": "stderr",
     "output_type": "stream",
     "text": [
      "/Users/danielcufino/miniforge3/envs/torch/lib/python3.8/site-packages/sklearn/linear_model/_sag.py:352: ConvergenceWarning: The max_iter was reached which means the coef_ did not converge\n",
      "  warnings.warn(\n"
     ]
    },
    {
     "name": "stdout",
     "output_type": "stream",
     "text": [
      "[CV] END ..model__C=5, model__penalty=l1, model__solver=saga; total time=  41.9s\n"
     ]
    },
    {
     "name": "stderr",
     "output_type": "stream",
     "text": [
      "/Users/danielcufino/miniforge3/envs/torch/lib/python3.8/site-packages/sklearn/linear_model/_sag.py:352: ConvergenceWarning: The max_iter was reached which means the coef_ did not converge\n",
      "  warnings.warn(\n",
      "/Users/danielcufino/miniforge3/envs/torch/lib/python3.8/site-packages/sklearn/linear_model/_sag.py:352: ConvergenceWarning: The max_iter was reached which means the coef_ did not converge\n",
      "  warnings.warn(\n"
     ]
    },
    {
     "name": "stdout",
     "output_type": "stream",
     "text": [
      "[CV] END ..model__C=5, model__penalty=l1, model__solver=saga; total time=  41.9s\n",
      "[CV] END ..model__C=5, model__penalty=l1, model__solver=saga; total time=  42.3s\n",
      "[CV] END model__C=10, model__penalty=l2, model__solver=liblinear; total time=   2.3s\n",
      "[CV] END model__C=10, model__penalty=l2, model__solver=liblinear; total time=   2.1s\n"
     ]
    },
    {
     "name": "stderr",
     "output_type": "stream",
     "text": [
      "/Users/danielcufino/miniforge3/envs/torch/lib/python3.8/site-packages/sklearn/linear_model/_sag.py:352: ConvergenceWarning: The max_iter was reached which means the coef_ did not converge\n",
      "  warnings.warn(\n"
     ]
    },
    {
     "name": "stdout",
     "output_type": "stream",
     "text": [
      "[CV] END model__C=10, model__penalty=l2, model__solver=liblinear; total time=   2.5s\n",
      "[CV] END ..model__C=5, model__penalty=l1, model__solver=saga; total time=  42.3s\n",
      "[CV] END model__C=10, model__penalty=l2, model__solver=liblinear; total time=   1.9s\n"
     ]
    },
    {
     "name": "stderr",
     "output_type": "stream",
     "text": [
      "/Users/danielcufino/miniforge3/envs/torch/lib/python3.8/site-packages/sklearn/linear_model/_sag.py:352: ConvergenceWarning: The max_iter was reached which means the coef_ did not converge\n",
      "  warnings.warn(\n"
     ]
    },
    {
     "name": "stdout",
     "output_type": "stream",
     "text": [
      "[CV] END ..model__C=5, model__penalty=l1, model__solver=saga; total time=  43.4s\n",
      "[CV] END model__C=10, model__penalty=l2, model__solver=liblinear; total time=   2.3s\n",
      "[CV] END .model__C=10, model__penalty=l2, model__solver=saga; total time=   3.8s\n",
      "[CV] END .model__C=10, model__penalty=l2, model__solver=saga; total time=   3.6s\n",
      "[CV] END .model__C=10, model__penalty=l2, model__solver=saga; total time=   3.9s\n",
      "[CV] END .model__C=10, model__penalty=l2, model__solver=saga; total time=   3.1s\n",
      "[CV] END .model__C=10, model__penalty=l2, model__solver=saga; total time=  20.2s\n"
     ]
    },
    {
     "name": "stderr",
     "output_type": "stream",
     "text": [
      "/Users/danielcufino/miniforge3/envs/torch/lib/python3.8/site-packages/sklearn/linear_model/_sag.py:352: ConvergenceWarning: The max_iter was reached which means the coef_ did not converge\n",
      "  warnings.warn(\n",
      "/Users/danielcufino/miniforge3/envs/torch/lib/python3.8/site-packages/sklearn/linear_model/_sag.py:352: ConvergenceWarning: The max_iter was reached which means the coef_ did not converge\n",
      "  warnings.warn(\n",
      "/Users/danielcufino/miniforge3/envs/torch/lib/python3.8/site-packages/sklearn/linear_model/_sag.py:352: ConvergenceWarning: The max_iter was reached which means the coef_ did not converge\n",
      "  warnings.warn(\n"
     ]
    },
    {
     "name": "stdout",
     "output_type": "stream",
     "text": [
      "[CV] END .model__C=10, model__penalty=l1, model__solver=saga; total time=  38.0s\n",
      "[CV] END .model__C=10, model__penalty=l1, model__solver=saga; total time=  38.1s\n",
      "[CV] END .model__C=10, model__penalty=l1, model__solver=saga; total time=  38.1s\n"
     ]
    },
    {
     "name": "stderr",
     "output_type": "stream",
     "text": [
      "/Users/danielcufino/miniforge3/envs/torch/lib/python3.8/site-packages/sklearn/linear_model/_sag.py:352: ConvergenceWarning: The max_iter was reached which means the coef_ did not converge\n",
      "  warnings.warn(\n"
     ]
    },
    {
     "name": "stdout",
     "output_type": "stream",
     "text": [
      "[CV] END .model__C=10, model__penalty=l1, model__solver=saga; total time=  37.3s\n"
     ]
    },
    {
     "name": "stderr",
     "output_type": "stream",
     "text": [
      "/Users/danielcufino/miniforge3/envs/torch/lib/python3.8/site-packages/sklearn/linear_model/_sag.py:352: ConvergenceWarning: The max_iter was reached which means the coef_ did not converge\n",
      "  warnings.warn(\n"
     ]
    },
    {
     "name": "stdout",
     "output_type": "stream",
     "text": [
      "[CV] END .model__C=10, model__penalty=l1, model__solver=saga; total time=  37.6s\n"
     ]
    }
   ],
   "source": [
    "from sklearn.linear_model import LogisticRegression\n",
    "from sklearn.metrics import balanced_accuracy_score, accuracy_score, confusion_matrix\n",
    "from sklearn.model_selection import train_test_split\n",
    "from sklearn.preprocessing import StandardScaler\n",
    "from sklearn.pipeline import Pipeline\n",
    "from sklearn.ensemble import RandomForestClassifier\n",
    "from sklearn.model_selection import RandomizedSearchCV\n",
    "from sklearn.model_selection import GridSearchCV\n",
    "from imblearn.over_sampling import SMOTE\n",
    "from imblearn.over_sampling import ADASYN\n",
    "\n",
    "from imblearn.pipeline import Pipeline as ImbPipeline\n",
    "from sklearn.ensemble import RandomForestClassifier\n",
    "from sklearn.svm import SVC\n",
    "from sklearn.compose import ColumnTransformer\n",
    "from sklearn.preprocessing import OneHotEncoder\n",
    "\n",
    "\n",
    "# Create a column transformer with OneHotEncoder for the categorical column\n",
    "\n",
    "numeric_cols = [\"fw_similarity\", \"adp_dist\", \"pre_oracle\", \"post_oracle\", \"fw_pre_interaction\", \"fw_post_interaction\"]\n",
    "cat_cols = ['projection_group', \"compartment\"]\n",
    "all_cols = numeric_cols + cat_cols\n",
    "# and StandardScaler for the numerical columns\n",
    "preprocessor = ColumnTransformer(\n",
    "    transformers=[\n",
    "        ('num', StandardScaler(), numeric_cols),\n",
    "        ('cat', OneHotEncoder(), cat_cols)\n",
    "    ],\n",
    "    remainder='passthrough'  # This will pass through any other columns untouched\n",
    ")\n",
    "\n",
    "# Now, modify your pipeline to include this preprocessor\n",
    "pipe = ImbPipeline([\n",
    "    ('preprocessing', preprocessor),  # Note how we include the preprocessor here\n",
    "    ('sampling', ADASYN(random_state=2)),\n",
    "    ('model', LogisticRegression(random_state=2, max_iter=300))\n",
    "])\n",
    "\n",
    "# Your param_grid remains the same, but you need to adjust the keys accordingly\n",
    "param_grid = {\n",
    "    'model__C': [0.00001, 0.0001, 0.0005, 0.001, 0.01, 0.1, 1, 2, 5, 10],\n",
    "    'model__penalty': ['l1', 'l2'],\n",
    "    'model__solver': ['liblinear', 'saga']\n",
    "    # Add or modify parameters for the 'preprocessing' step if needed\n",
    "}\n",
    "\n",
    "train_data, test_data = train_test_split(data, test_size=0.2, random_state=1)\n",
    "\n",
    "grid_search = GridSearchCV(pipe, param_grid, scoring='balanced_accuracy', cv=5, verbose=2, n_jobs=-1)\n",
    "\n",
    "grid_search.fit(train_data[all_cols], train_data[\"connected\"])\n",
    "\n",
    "# Get the best estimator\n",
    "best_model = grid_search.best_estimator_\n",
    "\n",
    "# Predict on test data\n",
    "test_data['pred'] = best_model.predict(test_data[all_cols])"
   ]
  },
  {
   "cell_type": "code",
   "execution_count": 61,
   "metadata": {},
   "outputs": [
    {
     "data": {
      "text/plain": [
       "LogisticRegression(C=0.01, max_iter=300, penalty='l1', random_state=2,\n",
       "                   solver='saga')"
      ]
     },
     "execution_count": 61,
     "metadata": {},
     "output_type": "execute_result"
    }
   ],
   "source": [
    "best_model.steps[2][1]"
   ]
  },
  {
   "cell_type": "code",
   "execution_count": 63,
   "metadata": {},
   "outputs": [
    {
     "name": "stdout",
     "output_type": "stream",
     "text": [
      "Accuracy: 0.7098501358732209\n",
      "Balanced Accuracy: 0.7806008231374595\n",
      "[[26152 10744]\n",
      " [   40   231]]\n"
     ]
    }
   ],
   "source": [
    "# Compute accuracy\n",
    "accuracy = accuracy_score(test_data['connected'], test_data['pred'] > 0.5)\n",
    "print(f\"Accuracy: {accuracy}\")\n",
    "\n",
    "# Compute balanced accuracy\n",
    "balanced_accuracy = balanced_accuracy_score(test_data['connected'], test_data['pred'] > 0.5)\n",
    "print(f\"Balanced Accuracy: {balanced_accuracy}\")\n",
    "\n",
    "# Display the confusion matrix\n",
    "conf_matrix = confusion_matrix(test_data['connected'], test_data['pred'] > 0.5)\n",
    "print(conf_matrix)\n"
   ]
  },
  {
   "cell_type": "code",
   "execution_count": 48,
   "metadata": {},
   "outputs": [
    {
     "name": "stdout",
     "output_type": "stream",
     "text": [
      "Accuracy: 0.7091236849893723\n",
      "Balanced Accuracy: 0.7802349298156902\n",
      "[[26125 10771]\n",
      " [   40   231]]\n"
     ]
    }
   ],
   "source": [
    "# Compute accuracy\n",
    "accuracy = accuracy_score(test_data['connected'], test_data['pred'] > 0.5)\n",
    "print(f\"Accuracy: {accuracy}\")\n",
    "\n",
    "# Compute balanced accuracy\n",
    "balanced_accuracy = balanced_accuracy_score(test_data['connected'], test_data['pred'] > 0.5)\n",
    "print(f\"Balanced Accuracy: {balanced_accuracy}\")\n",
    "\n",
    "# Display the confusion matrix\n",
    "conf_matrix = confusion_matrix(test_data['connected'], test_data['pred'] > 0.5)\n",
    "print(conf_matrix)\n"
   ]
  },
  {
   "cell_type": "markdown",
   "metadata": {},
   "source": [
    ".7379"
   ]
  },
  {
   "cell_type": "code",
   "execution_count": 12,
   "metadata": {},
   "outputs": [],
   "source": [
    "# from sklearn.linear_model import LogisticRegression\n",
    "# from sklearn.metrics import balanced_accuracy_score, accuracy_score, confusion_matrix\n",
    "# from sklearn.model_selection import train_test_split\n",
    "# from sklearn.preprocessing import StandardScaler\n",
    "# from sklearn.pipeline import Pipeline\n",
    "# from sklearn.ensemble import RandomForestClassifier\n",
    "# from sklearn.model_selection import RandomizedSearchCV\n",
    "# from sklearn.model_selection import GridSearchCV\n",
    "# from imblearn.over_sampling import SMOTE\n",
    "# from imblearn.pipeline import Pipeline as ImbPipeline\n",
    "# from sklearn.ensemble import RandomForestClassifier\n",
    "# from sklearn.svm import SVC\n",
    "# from sklearn.compose import ColumnTransformer\n",
    "# from sklearn.preprocessing import OneHotEncoder\n",
    "\n",
    "\n",
    "# # Create a column transformer with OneHotEncoder for the categorical column\n",
    "# numeric_cols = [\"fw_similarity\", \"adp_dist\"]\n",
    "# # and StandardScaler for the numerical columns\n",
    "# preprocessor = ColumnTransformer(\n",
    "#     transformers=[\n",
    "#         ('num', StandardScaler(), numeric_cols),\n",
    "#     ],\n",
    "#     remainder='passthrough'  # This will pass through any other columns untouched\n",
    "# )\n",
    "\n",
    "# # Now, modify your pipeline to include this preprocessor\n",
    "# pipe = ImbPipeline([\n",
    "#     ('preprocessing', preprocessor),  # Note how we include the preprocessor here\n",
    "#     ('sampling', SMOTE(random_state=2)),\n",
    "#     ('model', LogisticRegression(random_state=2))\n",
    "# ])\n",
    "\n",
    "# # Your param_grid remains the same, but you need to adjust the keys accordingly\n",
    "# param_grid = {\n",
    "#     'model__C': [0.00001, 0.0001, 0.0005, 0.001, 0.002, 0.003, 0.004, 0.01, 0.1, 1],\n",
    "#     'model__penalty': ['l1', 'l2'],\n",
    "#     'model__solver': ['liblinear', 'saga']\n",
    "#     # Add or modify parameters for the 'preprocessing' step if needed\n",
    "# }\n",
    "\n",
    "# train_data, test_data = train_test_split(df, test_size=0.2, random_state=1)\n",
    "\n",
    "# grid_search = GridSearchCV(pipe, param_grid, scoring='balanced_accuracy', cv=5, verbose=2, n_jobs=-1)\n",
    "\n",
    "# grid_search.fit(train_data[[\"fw_similarity\", \"adp_dist\"]], train_data[\"connected\"])\n",
    "\n",
    "# # Get the best estimator\n",
    "# best_model = grid_search.best_estimator_\n",
    "\n",
    "# # Predict on test data\n",
    "# test_data['pred'] = best_model.predict(test_data[[\"fw_similarity\", \"adp_dist\"]])"
   ]
  },
  {
   "cell_type": "code",
   "execution_count": 13,
   "metadata": {},
   "outputs": [],
   "source": [
    "# best_model.steps[2][1]"
   ]
  },
  {
   "cell_type": "code",
   "execution_count": 14,
   "metadata": {},
   "outputs": [],
   "source": [
    "# # Compute accuracy\n",
    "# accuracy = accuracy_score(test_data['connected'], test_data['pred'] > 0.5)\n",
    "# print(f\"Accuracy: {accuracy}\")\n",
    "\n",
    "# # Compute balanced accuracy\n",
    "# balanced_accuracy = balanced_accuracy_score(test_data['connected'], test_data['pred'] > 0.5)\n",
    "# print(f\"Balanced Accuracy: {balanced_accuracy}\")\n",
    "\n",
    "# # Display the confusion matrix\n",
    "# conf_matrix = confusion_matrix(test_data['connected'], test_data['pred'] > 0.5)\n",
    "# print(conf_matrix)\n"
   ]
  },
  {
   "cell_type": "markdown",
   "metadata": {},
   "source": [
    "ACC WITH PROJ:\n",
    "Accuracy: 0.6564156375279145\n",
    "Balanced Accuracy: 0.7372041349695804\n",
    "[[24175 12721]\n",
    " [   49   222]]"
   ]
  },
  {
   "cell_type": "markdown",
   "metadata": {},
   "source": []
  }
 ],
 "metadata": {
  "kernelspec": {
   "display_name": "Python 3",
   "language": "python",
   "name": "python3"
  },
  "language_info": {
   "codemirror_mode": {
    "name": "ipython",
    "version": 3
   },
   "file_extension": ".py",
   "mimetype": "text/x-python",
   "name": "python",
   "nbconvert_exporter": "python",
   "pygments_lexer": "ipython3",
   "version": "3.8.13"
  }
 },
 "nbformat": 4,
 "nbformat_minor": 2
}
